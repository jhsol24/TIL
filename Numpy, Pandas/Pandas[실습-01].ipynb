{
 "cells": [
  {
   "cell_type": "markdown",
   "metadata": {},
   "source": [
    "### ratings.data - 영화평점 데이터\n",
    "- loadtxt()\n",
    "- delimiter\n",
    "- dtype"
   ]
  },
  {
   "cell_type": "code",
   "execution_count": 1,
   "metadata": {},
   "outputs": [],
   "source": [
    "import pandas as pd\n",
    "import numpy as np\n",
    "import matplotlib.pyplot as plt"
   ]
  },
  {
   "cell_type": "code",
   "execution_count": 2,
   "metadata": {},
   "outputs": [
    {
     "data": {
      "text/plain": [
       "array([[        1,      1193,         5, 978300760],\n",
       "       [        1,       661,         3, 978302109],\n",
       "       [        1,       914,         3, 978301968],\n",
       "       ...,\n",
       "       [     6040,       562,         5, 956704746],\n",
       "       [     6040,      1096,         4, 956715648],\n",
       "       [     6040,      1097,         4, 956715569]], dtype=int64)"
      ]
     },
     "execution_count": 2,
     "metadata": {},
     "output_type": "execute_result"
    }
   ],
   "source": [
    "# userid, movieid, rating, timestamp\n",
    "data = np.loadtxt('./data/ratings.dat', delimiter=\"::\", dtype=np.int64)\n",
    "data"
   ]
  },
  {
   "cell_type": "code",
   "execution_count": 3,
   "metadata": {},
   "outputs": [],
   "source": [
    "def aryInfo(ary) :\n",
    "    print('type : {}'.format(type(ary)))\n",
    "    print('shape : {}'.format(ary.shape))\n",
    "    print('dimension : {}'.format(ary.ndim))\n",
    "    print('dtype : {}'.format(ary.dtype))\n",
    "    print(\"Array Data :\\n\", ary)"
   ]
  },
  {
   "cell_type": "code",
   "execution_count": 4,
   "metadata": {},
   "outputs": [
    {
     "name": "stdout",
     "output_type": "stream",
     "text": [
      "type : <class 'numpy.ndarray'>\n",
      "shape : (1000209, 4)\n",
      "dimension : 2\n",
      "dtype : int64\n",
      "Array Data :\n",
      " [[        1      1193         5 978300760]\n",
      " [        1       661         3 978302109]\n",
      " [        1       914         3 978301968]\n",
      " ...\n",
      " [     6040       562         5 956704746]\n",
      " [     6040      1096         4 956715648]\n",
      " [     6040      1097         4 956715569]]\n"
     ]
    }
   ],
   "source": [
    "aryInfo(data)"
   ]
  },
  {
   "cell_type": "markdown",
   "metadata": {},
   "source": [
    "## 문제\n",
    "- 데이터의 첫 5 행만 확인\n",
    "\n",
    "- 데이터의 형태 확인\n",
    "\n",
    "- 전체 평균 평점 계산\n",
    "- data[ : , :2] 전체 행, 2번 열\n",
    "\n",
    "\n",
    "- 사용자 아이디 수집\n",
    "- 전체 행 , 0번 열\n",
    "- 사용자별 평점 확인 >list로 만들기\n",
    "- 사용자 아이디별 평점 확인\n",
    "\n",
    "\n",
    "- 리스트를 Numpy 배열로 변환\n"
   ]
  },
  {
   "cell_type": "code",
   "execution_count": 5,
   "metadata": {},
   "outputs": [
    {
     "name": "stdout",
     "output_type": "stream",
     "text": [
      "1. 데이터의 첫 5 행만 확인\n"
     ]
    },
    {
     "data": {
      "text/plain": [
       "array([[        1,      1193,         5, 978300760],\n",
       "       [        1,       661,         3, 978302109],\n",
       "       [        1,       914,         3, 978301968],\n",
       "       [        1,      3408,         4, 978300275],\n",
       "       [        1,      2355,         5, 978824291]], dtype=int64)"
      ]
     },
     "execution_count": 5,
     "metadata": {},
     "output_type": "execute_result"
    }
   ],
   "source": [
    "print('1. 데이터의 첫 5 행만 확인')\n",
    "# numpy의 matrix\n",
    "data[ : 5, : ]"
   ]
  },
  {
   "cell_type": "code",
   "execution_count": 6,
   "metadata": {},
   "outputs": [
    {
     "name": "stdout",
     "output_type": "stream",
     "text": [
      "2. 데이터의 형태 확인\n"
     ]
    },
    {
     "data": {
      "text/plain": [
       "(1000209, 4)"
      ]
     },
     "execution_count": 6,
     "metadata": {},
     "output_type": "execute_result"
    }
   ],
   "source": [
    "print('2. 데이터의 형태 확인')\n",
    "data.shape"
   ]
  },
  {
   "cell_type": "code",
   "execution_count": 7,
   "metadata": {},
   "outputs": [
    {
     "name": "stdout",
     "output_type": "stream",
     "text": [
      "3. 전체 평균 평점 계산\n",
      "3.581564453029317\n"
     ]
    }
   ],
   "source": [
    "print('3. 전체 평균 평점 계산')\n",
    "mean_rating = data[ :, 2].mean()\n",
    "print(mean_rating)"
   ]
  },
  {
   "cell_type": "code",
   "execution_count": 8,
   "metadata": {},
   "outputs": [
    {
     "name": "stdout",
     "output_type": "stream",
     "text": [
      "4. 사용자 아이디 수집\n"
     ]
    },
    {
     "data": {
      "text/plain": [
       "array([   1,    2,    3, ..., 6038, 6039, 6040], dtype=int64)"
      ]
     },
     "execution_count": 8,
     "metadata": {},
     "output_type": "execute_result"
    }
   ],
   "source": [
    "print('4. 사용자 아이디 수집')\n",
    "user_ids = np.unique(data[ :, 0])\n",
    "user_ids"
   ]
  },
  {
   "cell_type": "code",
   "execution_count": 11,
   "metadata": {},
   "outputs": [
    {
     "name": "stdout",
     "output_type": "stream",
     "text": [
      "5. 사용자별 평점 확인\n"
     ]
    },
    {
     "data": {
      "text/plain": [
       "[[1, 4.188679245283019],\n",
       " [2, 3.7131782945736433],\n",
       " [3, 3.9019607843137254],\n",
       " [4, 4.190476190476191],\n",
       " [5, 3.1464646464646466]]"
      ]
     },
     "execution_count": 11,
     "metadata": {},
     "output_type": "execute_result"
    }
   ],
   "source": [
    "print('5. 사용자별 평점 확인')\n",
    "mean_userids = []\n",
    "for user in user_ids :\n",
    "    data_for_user = data[user == data[:, 0], :]\n",
    "#     print(data_for_user)\n",
    "    user_mean = data_for_user[ :, 2].mean()\n",
    "#     print(user_mean)\n",
    "    mean_userids.append([user, user_mean])\n",
    "    \n",
    "mean_userids[ : 5]"
   ]
  },
  {
   "cell_type": "code",
   "execution_count": 13,
   "metadata": {},
   "outputs": [
    {
     "data": {
      "text/plain": [
       "list"
      ]
     },
     "execution_count": 13,
     "metadata": {},
     "output_type": "execute_result"
    }
   ],
   "source": [
    "type(mean_userids[ :5])"
   ]
  },
  {
   "cell_type": "code",
   "execution_count": 14,
   "metadata": {},
   "outputs": [
    {
     "name": "stdout",
     "output_type": "stream",
     "text": [
      "6. 리스트를 Numpy 배열로 변환\n",
      "[[1.        4.188679 ]\n",
      " [2.        3.7131784]\n",
      " [3.        3.9019608]\n",
      " [4.        4.1904764]\n",
      " [5.        3.1464646]]\n",
      "(6040, 2)\n",
      "<class 'numpy.ndarray'>\n"
     ]
    }
   ],
   "source": [
    "print('6. 리스트를 Numpy 배열로 변환')\n",
    "mean_userids_array = np.array(mean_userids, dtype=np.float32)\n",
    "print(mean_userids_array[ : 5])\n",
    "print(mean_userids_array.shape)\n",
    "print(type(mean_userids_array))"
   ]
  },
  {
   "cell_type": "code",
   "execution_count": 16,
   "metadata": {},
   "outputs": [],
   "source": [
    "# csv 파일 저장\n",
    "np.savetxt('./data/movies_mean_userids.csv', mean_userids_array, delimiter = ',', fmt = '%.1f')"
   ]
  }
 ],
 "metadata": {
  "kernelspec": {
   "display_name": "Python 3",
   "language": "python",
   "name": "python3"
  },
  "language_info": {
   "codemirror_mode": {
    "name": "ipython",
    "version": 3
   },
   "file_extension": ".py",
   "mimetype": "text/x-python",
   "name": "python",
   "nbconvert_exporter": "python",
   "pygments_lexer": "ipython3",
   "version": "3.6.5"
  }
 },
 "nbformat": 4,
 "nbformat_minor": 2
}
