{
 "cells": [
  {
   "cell_type": "markdown",
   "metadata": {},
   "source": [
    "# 난수 발생 및 카운팅, 통계계산 함수 소개\n",
    "- count (데이터의 개수)\n",
    "- mean, average (평균)\n",
    "- variance (분산)\n",
    "- standart deviation (표준편차)\n",
    "- max, min, median, quartile\n",
    "- np.random.rand : 0 부터 1 사이의 균일한 값을 return하는 분포\n",
    "---\n",
    "- np.random.randn : 정규분포\n",
    "- np.random.randint : 정수의 난수 return"
   ]
  },
  {
   "cell_type": "code",
   "execution_count": 1,
   "metadata": {},
   "outputs": [],
   "source": [
    "import numpy as np"
   ]
  },
  {
   "cell_type": "code",
   "execution_count": 2,
   "metadata": {},
   "outputs": [
    {
     "name": "stdout",
     "output_type": "stream",
     "text": [
      "[ 18   5  10  23  19  -8  10   0   0   5   2  15   8   2   5   4  15  -1\n",
      "   4  -7 -24   7   9  -6  23  13]\n"
     ]
    }
   ],
   "source": [
    "x = np.array([18, 5, 10, 23, 19, -8, 10, 0, 0, 5, 2, 15, 8, 2, 5, 4, 15, -1, 4, -7, -24, 7, 9, -6, 23, 13])\n",
    "print(x)"
   ]
  },
  {
   "cell_type": "code",
   "execution_count": 3,
   "metadata": {},
   "outputs": [
    {
     "data": {
      "text/plain": [
       "26"
      ]
     },
     "execution_count": 3,
     "metadata": {},
     "output_type": "execute_result"
    }
   ],
   "source": [
    "len(x)"
   ]
  },
  {
   "cell_type": "code",
   "execution_count": 4,
   "metadata": {},
   "outputs": [
    {
     "name": "stdout",
     "output_type": "stream",
     "text": [
      "23\n",
      "-24\n",
      "5.8076923076923075\n",
      "104.61686390532545\n",
      "10.22823855340329\n",
      "5.0\n"
     ]
    }
   ],
   "source": [
    "print(np.max(x))\n",
    "print(np.min(x))\n",
    "print(np.mean(x))\n",
    "print(np.var(x))     # 분산\n",
    "print(np.std(x))     # 표준편차\n",
    "print(np.median(x))"
   ]
  },
  {
   "cell_type": "code",
   "execution_count": 5,
   "metadata": {},
   "outputs": [
    {
     "data": {
      "text/plain": [
       "array([0.5488135 , 0.71518937, 0.60276338, 0.54488318, 0.4236548 ])"
      ]
     },
     "execution_count": 5,
     "metadata": {},
     "output_type": "execute_result"
    }
   ],
   "source": [
    "# random 서브패키지에 난수를 발생시키는 함수 제공\n",
    "# np.random.seed(0) : 고정된 난수 생성\n",
    "\n",
    "np.random.seed(0)\n",
    "np.random.rand(5)"
   ]
  },
  {
   "cell_type": "markdown",
   "metadata": {},
   "source": [
    "### 데이터 샘플링\n",
    ">choice (배열, size = 샘플링 숫자, replace = T, p = 각 데이터가 선택될 확률)"
   ]
  },
  {
   "cell_type": "code",
   "execution_count": 6,
   "metadata": {},
   "outputs": [
    {
     "data": {
      "text/plain": [
       "array([3, 2, 3, 3, 2, 3, 3, 3, 3, 0], dtype=int64)"
      ]
     },
     "execution_count": 6,
     "metadata": {},
     "output_type": "execute_result"
    }
   ],
   "source": [
    "np.random.choice(5,10,p=[0.2, 0, 0.3, 0.5, 0])"
   ]
  },
  {
   "cell_type": "markdown",
   "metadata": {},
   "source": [
    ">np.random.randn() : 표준정규분포 (평균 0, 표준편차 1) 확률에서 실수 표본"
   ]
  },
  {
   "cell_type": "code",
   "execution_count": 8,
   "metadata": {},
   "outputs": [
    {
     "name": "stdout",
     "output_type": "stream",
     "text": [
      "[[ 0.04736482  1.46274045  1.53502913  0.56644004  0.14926509]\n",
      " [-1.078278    1.39547227  1.78748405 -0.56951726  0.17538653]\n",
      " [-0.46250554 -1.0858006   0.63973599 -0.38586334 -0.77576235]]\n"
     ]
    },
    {
     "data": {
      "image/png": "[encoded data removed]",
      "text/plain": [
       "<Figure size 432x288 with 1 Axes>"
      ]
     },
     "metadata": {},
     "output_type": "display_data"
    }
   ],
   "source": [
    "import matplotlib.pyplot as plt\n",
    "\n",
    "arr = np.random.randn(3, 5)\n",
    "print(arr)\n",
    "plt.hist(arr)\n",
    "plt.show()"
   ]
  },
  {
   "cell_type": "markdown",
   "metadata": {},
   "source": [
    ">np.random.randint(low, high=None, size=None) : 분포가 균일한 정수의 난수값을 리턴"
   ]
  },
  {
   "cell_type": "code",
   "execution_count": 8,
   "metadata": {},
   "outputs": [
    {
     "data": {
      "text/plain": [
       "array([8, 1, 1, 7, 9])"
      ]
     },
     "execution_count": 8,
     "metadata": {},
     "output_type": "execute_result"
    }
   ],
   "source": [
    "np.random.randint(10, size=5)"
   ]
  },
  {
   "cell_type": "code",
   "execution_count": 9,
   "metadata": {},
   "outputs": [
    {
     "data": {
      "text/plain": [
       "array([19, 13, 16, 17, 12, 10, 13, 15, 19, 14])"
      ]
     },
     "execution_count": 9,
     "metadata": {},
     "output_type": "execute_result"
    }
   ],
   "source": [
    "np.random.randint(10,20,size=10)"
   ]
  },
  {
   "cell_type": "code",
   "execution_count": 12,
   "metadata": {},
   "outputs": [
    {
     "data": {
      "text/plain": [
       "array([[14, 16, 14, 14, 13],\n",
       "       [14, 14, 18, 14, 13],\n",
       "       [17, 15, 15, 10, 11]])"
      ]
     },
     "execution_count": 12,
     "metadata": {},
     "output_type": "execute_result"
    }
   ],
   "source": [
    "np.random.randint(10,20,size=(3,5))"
   ]
  },
  {
   "cell_type": "code",
   "execution_count": 13,
   "metadata": {},
   "outputs": [
    {
     "data": {
      "text/plain": [
       "array([ 2, 11, 34])"
      ]
     },
     "execution_count": 13,
     "metadata": {},
     "output_type": "execute_result"
    }
   ],
   "source": [
    "np.unique([11, 11, 2, 2, 34, 34])"
   ]
  },
  {
   "cell_type": "code",
   "execution_count": 14,
   "metadata": {},
   "outputs": [
    {
     "name": "stdout",
     "output_type": "stream",
     "text": [
      "idx :  ['a' 'b' 'c']\n",
      "cnt :  [2 2 1]\n"
     ]
    }
   ],
   "source": [
    "arr = np.array(['a', 'b', 'b', 'c', 'a'])\n",
    "index, count = np.unique(arr, return_counts = True)\n",
    "print('idx : ', index)\n",
    "print('cnt : ', count)"
   ]
  },
  {
   "cell_type": "markdown",
   "metadata": {},
   "source": [
    ">bincount() : 데이터가 없을 경우에는 카운트 값이 0이 리턴된다.\n",
    "- 해당 숫자의 index에 카운트 값이 return된다."
   ]
  },
  {
   "cell_type": "code",
   "execution_count": 15,
   "metadata": {},
   "outputs": [
    {
     "data": {
      "text/plain": [
       "array([0, 2, 3, 1, 0, 0], dtype=int64)"
      ]
     },
     "execution_count": 15,
     "metadata": {},
     "output_type": "execute_result"
    }
   ],
   "source": [
    "np.bincount([1, 1, 2, 2, 2, 3], minlength = 6)"
   ]
  }
 ],
 "metadata": {
  "kernelspec": {
   "display_name": "Python 3",
   "language": "python",
   "name": "python3"
  },
  "language_info": {
   "codemirror_mode": {
    "name": "ipython",
    "version": 3
   },
   "file_extension": ".py",
   "mimetype": "text/x-python",
   "name": "python",
   "nbconvert_exporter": "python",
   "pygments_lexer": "ipython3",
   "version": "3.6.5"
  }
 },
 "nbformat": 4,
 "nbformat_minor": 2
}
