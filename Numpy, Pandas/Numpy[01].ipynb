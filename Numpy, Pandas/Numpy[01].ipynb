{
 "cells": [
  {
   "cell_type": "markdown",
   "metadata": {},
   "source": [
    "# Numpy\n",
    "\n",
    "## Goal\n",
    ">- 배열과 리스트의 차이점\n",
    "- 배열 생성 다루는 기법\n",
    "- 기술 통계\n",
    "- 결과에 대한 분석하는 방법\n",
    "\n",
    ">- Numpy 의 배열은 모소 원소가 같은 자료형이어야 한다.\n",
    "- resizing 불가능\n",
    "\n",
    ">- Vector(1차원 - 배열) - pandas (Series)\n",
    "- Matrix(2차원 - 행렬) - pandas (DataFrame)\n",
    "\n",
    ">- 선형대수(행렬을 이용한 연산 가능)"
   ]
  },
  {
   "cell_type": "code",
   "execution_count": 1,
   "metadata": {},
   "outputs": [],
   "source": [
    "import numpy as np"
   ]
  },
  {
   "cell_type": "markdown",
   "metadata": {},
   "source": [
    "- 배열의 차원과 크기, 타입\n",
    "- ndim, shape, dtype"
   ]
  },
  {
   "cell_type": "code",
   "execution_count": 2,
   "metadata": {},
   "outputs": [],
   "source": [
    "def aryInfo(ary) :\n",
    "    print('type : {}'.format(type(ary)))\n",
    "    print('shape : {}'.format(ary.shape))\n",
    "    print('dimension : {}'.format(ary.ndim))\n",
    "    print('dtype : {}'.format(ary.dtype))\n",
    "    print(\"Array Data :\\n\", ary)"
   ]
  },
  {
   "cell_type": "markdown",
   "metadata": {},
   "source": [
    "## 1차원 배열 생성\n",
    "- array()"
   ]
  },
  {
   "cell_type": "code",
   "execution_count": 3,
   "metadata": {},
   "outputs": [
    {
     "name": "stdout",
     "output_type": "stream",
     "text": [
      "type : <class 'numpy.ndarray'>\n",
      "shape : (10,)\n",
      "dimension : 1\n",
      "dtype : int32\n",
      "Array Data :\n",
      " [0 1 2 3 4 5 6 7 8 9]\n"
     ]
    }
   ],
   "source": [
    "oneAry = np.array([0,1,2,3,4,5,6,7,8,9])\n",
    "aryInfo(oneAry)"
   ]
  },
  {
   "cell_type": "markdown",
   "metadata": {},
   "source": [
    "- List vs Array 차이점 (Vector operation)"
   ]
  },
  {
   "cell_type": "code",
   "execution_count": 4,
   "metadata": {},
   "outputs": [
    {
     "data": {
      "text/plain": [
       "[0, 1, 2, 3, 4, 5, 6, 7, 8, 9, 0, 1, 2, 3, 4, 5, 6, 7, 8, 9]"
      ]
     },
     "execution_count": 4,
     "metadata": {},
     "output_type": "execute_result"
    }
   ],
   "source": [
    "data = [0,1,2,3,4,5,6,7,8,9]\n",
    "data * 2"
   ]
  },
  {
   "cell_type": "code",
   "execution_count": 5,
   "metadata": {},
   "outputs": [
    {
     "data": {
      "text/plain": [
       "[0, 2, 4, 6, 8, 10, 12, 14, 16, 18]"
      ]
     },
     "execution_count": 5,
     "metadata": {},
     "output_type": "execute_result"
    }
   ],
   "source": [
    "result = []\n",
    "for d in data :\n",
    "    result.append(d*2)\n",
    "result"
   ]
  },
  {
   "cell_type": "code",
   "execution_count": 6,
   "metadata": {},
   "outputs": [
    {
     "data": {
      "text/plain": [
       "[0, 2, 4, 6, 8, 10, 12, 14, 16, 18]"
      ]
     },
     "execution_count": 6,
     "metadata": {},
     "output_type": "execute_result"
    }
   ],
   "source": [
    "result2 = [d*2 for d in data]\n",
    "result2"
   ]
  },
  {
   "cell_type": "code",
   "execution_count": 7,
   "metadata": {},
   "outputs": [
    {
     "data": {
      "text/plain": [
       "array([ 0,  2,  4,  6,  8, 10, 12, 14, 16, 18])"
      ]
     },
     "execution_count": 7,
     "metadata": {},
     "output_type": "execute_result"
    }
   ],
   "source": [
    "result3 = oneAry * 2\n",
    "result3\n",
    "# numpy를 활용할 때에 적용 가능하다. 현업에서는 빠른 numpy를 사용한다."
   ]
  },
  {
   "cell_type": "markdown",
   "metadata": {},
   "source": [
    "- 벡터 연산은 비교, 산술, 논리 연산을 포함하는 모든 수학연산에 적용됨"
   ]
  },
  {
   "cell_type": "code",
   "execution_count": 8,
   "metadata": {},
   "outputs": [],
   "source": [
    "xAry = np.array([1,2,3])\n",
    "yAry = np.array([10,20,30])"
   ]
  },
  {
   "cell_type": "code",
   "execution_count": 9,
   "metadata": {},
   "outputs": [
    {
     "data": {
      "text/plain": [
       "array([12, 24, 36])"
      ]
     },
     "execution_count": 9,
     "metadata": {},
     "output_type": "execute_result"
    }
   ],
   "source": [
    "2 * xAry + yAry"
   ]
  },
  {
   "cell_type": "code",
   "execution_count": 10,
   "metadata": {},
   "outputs": [
    {
     "data": {
      "text/plain": [
       "array([False,  True, False])"
      ]
     },
     "execution_count": 10,
     "metadata": {},
     "output_type": "execute_result"
    }
   ],
   "source": [
    "xAry == 2"
   ]
  },
  {
   "cell_type": "code",
   "execution_count": 11,
   "metadata": {},
   "outputs": [
    {
     "data": {
      "text/plain": [
       "array([False, False,  True])"
      ]
     },
     "execution_count": 11,
     "metadata": {},
     "output_type": "execute_result"
    }
   ],
   "source": [
    "yAry > 20"
   ]
  },
  {
   "cell_type": "code",
   "execution_count": 12,
   "metadata": {},
   "outputs": [
    {
     "data": {
      "text/plain": [
       "array([False, False, False])"
      ]
     },
     "execution_count": 12,
     "metadata": {},
     "output_type": "execute_result"
    }
   ],
   "source": [
    "(xAry == 2) & (yAry > 20)"
   ]
  },
  {
   "cell_type": "markdown",
   "metadata": {},
   "source": [
    "## 2차원 배열 생성\n",
    "- ndarray(N-dimensional Array)\n",
    "- 2차원, 3차원(다차원 배열 자료구조)\n",
    "- 2차원 배열은 행렬(Matrix)\n",
    "- 2차원 : list of list\n",
    "- 3차원 : list of list of list"
   ]
  },
  {
   "cell_type": "code",
   "execution_count": 13,
   "metadata": {},
   "outputs": [
    {
     "name": "stdout",
     "output_type": "stream",
     "text": [
      "type : <class 'numpy.ndarray'>\n",
      "shape : (2, 3)\n",
      "dimension : 2\n",
      "dtype : float64\n",
      "Array Data :\n",
      " [[1. 2. 3.]\n",
      " [4. 5. 6.]]\n"
     ]
    }
   ],
   "source": [
    "# 2개의 행과 3개의 열을 가지는 배열 만든다면\n",
    "twoAry = np.array([[1,2,3],[4,5,6]], dtype=np.float64)\n",
    "aryInfo(twoAry)"
   ]
  },
  {
   "cell_type": "code",
   "execution_count": 14,
   "metadata": {},
   "outputs": [
    {
     "name": "stdout",
     "output_type": "stream",
     "text": [
      "2\n",
      "3\n",
      "3\n"
     ]
    }
   ],
   "source": [
    "# 행의 갯수, 열의 갯수\n",
    "print(len(twoAry))\n",
    "print(len(twoAry[0]))\n",
    "print(len(twoAry[1]))"
   ]
  },
  {
   "cell_type": "markdown",
   "metadata": {},
   "source": [
    "## 3차원 배열 생성"
   ]
  },
  {
   "cell_type": "code",
   "execution_count": 15,
   "metadata": {},
   "outputs": [
    {
     "name": "stdout",
     "output_type": "stream",
     "text": [
      "type : <class 'numpy.ndarray'>\n",
      "shape : (2, 3, 4)\n",
      "dimension : 3\n",
      "dtype : int32\n",
      "Array Data :\n",
      " [[[ 1  2  3  4]\n",
      "  [ 5  6  7  8]\n",
      "  [ 9 10 11 12]]\n",
      "\n",
      " [[13 14 15 16]\n",
      "  [17 18 19 20]\n",
      "  [21 22 23 24]]]\n"
     ]
    }
   ],
   "source": [
    "# 2 3 4\n",
    "threeAry = np.array([ \n",
    "                    [[1,2,3,4],[5,6,7,8],[9,10,11,12]],\n",
    "                    [[13,14,15,16],[17,18,19,20],[21,22,23,24]]\n",
    "                    ])\n",
    "aryInfo(threeAry)"
   ]
  },
  {
   "cell_type": "code",
   "execution_count": 16,
   "metadata": {},
   "outputs": [
    {
     "name": "stdout",
     "output_type": "stream",
     "text": [
      "dept 2\n",
      "row 3\n",
      "row 3\n",
      "row[0] col 4\n"
     ]
    }
   ],
   "source": [
    "print('dept', len(threeAry))\n",
    "print('row', len(threeAry[0]))\n",
    "print('row', len(threeAry[1]))\n",
    "print('row[0] col', len(threeAry[0][0]))"
   ]
  },
  {
   "cell_type": "markdown",
   "metadata": {},
   "source": [
    "- 요소의 타입을 변경할 때는 astype()"
   ]
  },
  {
   "cell_type": "code",
   "execution_count": 17,
   "metadata": {},
   "outputs": [
    {
     "name": "stdout",
     "output_type": "stream",
     "text": [
      "type : <class 'numpy.ndarray'>\n",
      "shape : (2, 3, 4)\n",
      "dimension : 3\n",
      "dtype : float64\n",
      "Array Data :\n",
      " [[[ 1.  2.  3.  4.]\n",
      "  [ 5.  6.  7.  8.]\n",
      "  [ 9. 10. 11. 12.]]\n",
      "\n",
      " [[13. 14. 15. 16.]\n",
      "  [17. 18. 19. 20.]\n",
      "  [21. 22. 23. 24.]]]\n"
     ]
    }
   ],
   "source": [
    "typeChange = threeAry.astype(np.float64)\n",
    "aryInfo(typeChange)"
   ]
  },
  {
   "cell_type": "code",
   "execution_count": 18,
   "metadata": {},
   "outputs": [
    {
     "name": "stdout",
     "output_type": "stream",
     "text": [
      "type : <class 'numpy.ndarray'>\n",
      "shape : (7,)\n",
      "dimension : 1\n",
      "dtype : int32\n",
      "Array Data :\n",
      " [1 2 3 4 5 6 7]\n"
     ]
    }
   ],
   "source": [
    "indexAry = np.array([1,2,3,4,5,6,7])\n",
    "aryInfo(indexAry)"
   ]
  },
  {
   "cell_type": "code",
   "execution_count": 19,
   "metadata": {},
   "outputs": [
    {
     "name": "stdout",
     "output_type": "stream",
     "text": [
      "3\n"
     ]
    },
    {
     "data": {
      "text/plain": [
       "7"
      ]
     },
     "execution_count": 19,
     "metadata": {},
     "output_type": "execute_result"
    }
   ],
   "source": [
    "print(indexAry[2])\n",
    "indexAry[-1]"
   ]
  },
  {
   "cell_type": "code",
   "execution_count": 20,
   "metadata": {},
   "outputs": [
    {
     "name": "stdout",
     "output_type": "stream",
     "text": [
      "type : <class 'numpy.ndarray'>\n",
      "shape : (2, 3)\n",
      "dimension : 2\n",
      "dtype : float64\n",
      "Array Data :\n",
      " [[1. 2. 3.]\n",
      " [4. 5. 6.]]\n",
      "1.0\n",
      "2.0\n"
     ]
    },
    {
     "data": {
      "text/plain": [
       "6.0"
      ]
     },
     "execution_count": 20,
     "metadata": {},
     "output_type": "execute_result"
    }
   ],
   "source": [
    "aryInfo(twoAry)\n",
    "# twoAry indexing\n",
    "# 첫번째 행의 첫번째 열\n",
    "print(twoAry[0,0])\n",
    "# 첫번째 행의 두번째 열\n",
    "print(twoAry[0,1])\n",
    "# 마지막 행의 마지막 열\n",
    "twoAry[-1,-1]"
   ]
  },
  {
   "cell_type": "code",
   "execution_count": 21,
   "metadata": {},
   "outputs": [
    {
     "name": "stdout",
     "output_type": "stream",
     "text": [
      "type : <class 'numpy.ndarray'>\n",
      "shape : (2, 4)\n",
      "dimension : 2\n",
      "dtype : int32\n",
      "Array Data :\n",
      " [[1 2 3 4]\n",
      " [5 6 7 8]]\n",
      "[1 2 3 4]\n",
      "[2 6]\n",
      "[6 7 8]\n"
     ]
    }
   ],
   "source": [
    "slicingAry = np.array([[1,2,3,4],[5,6,7,8]])\n",
    "aryInfo(slicingAry)\n",
    "# 첫번째 행의 전체\n",
    "print(slicingAry[0, : ])\n",
    "# 두번째 열의 전체\n",
    "print(slicingAry[ :, 1])\n",
    "# 두번째 행의 두번째 열부터 끝까지\n",
    "print(slicingAry[1, 1:])"
   ]
  },
  {
   "cell_type": "code",
   "execution_count": 22,
   "metadata": {},
   "outputs": [
    {
     "name": "stdout",
     "output_type": "stream",
     "text": [
      "type : <class 'numpy.ndarray'>\n",
      "shape : (3, 5)\n",
      "dimension : 2\n",
      "dtype : int32\n",
      "Array Data :\n",
      " [[ 0  1  2  3  4]\n",
      " [ 5  6  7  8  9]\n",
      " [10 11 12 13 14]]\n",
      "7\n",
      "14\n",
      "[6 7]\n",
      "[ 7 12]\n",
      "[[3 4]\n",
      " [8 9]]\n"
     ]
    }
   ],
   "source": [
    "m = np.array([[ 0,  1,  2,  3,  4],\n",
    "            [ 5,  6,  7,  8,  9],\n",
    "            [10, 11, 12, 13, 14]])\n",
    "aryInfo(m)\n",
    "\n",
    "# 이 행렬에서 값 7 을 인덱싱한다.\n",
    "print(m[1,2])\n",
    "# 이 행렬에서 값 14 을 인덱싱한다.\n",
    "print(m[-1,-1])\n",
    "# 이 행렬에서 배열 [6,7] 을 슬라이싱한다.\n",
    "print(m[1,1:3])\n",
    "# 이 행렬에서 배열 [7,12] 을 슬라이싱한다.\n",
    "print(m[1:,2])\n",
    "# 이 행렬에서 배열 [[3,4],[8,9]] 을 슬라이싱한다.\n",
    "print(m[0:2,3:5])"
   ]
  },
  {
   "cell_type": "markdown",
   "metadata": {},
   "source": [
    "- fancy indexing\n",
    "- boolean index"
   ]
  },
  {
   "cell_type": "code",
   "execution_count": 23,
   "metadata": {},
   "outputs": [
    {
     "name": "stdout",
     "output_type": "stream",
     "text": [
      "type : <class 'numpy.ndarray'>\n",
      "shape : (10,)\n",
      "dimension : 1\n",
      "dtype : int32\n",
      "Array Data :\n",
      " [0 1 2 3 4 5 6 7 8 9]\n",
      "[0 2 4 6 8]\n"
     ]
    }
   ],
   "source": [
    "arr = np.array([0,1,2,3,4,5,6,7,8,9])\n",
    "aryInfo(arr)\n",
    "idx = np.array([True, False, True, False, True, False, True, False, True, False])\n",
    "print(arr[idx])"
   ]
  },
  {
   "cell_type": "code",
   "execution_count": 24,
   "metadata": {},
   "outputs": [
    {
     "data": {
      "text/plain": [
       "array([ True, False,  True, False,  True, False,  True, False,  True,\n",
       "       False])"
      ]
     },
     "execution_count": 24,
     "metadata": {},
     "output_type": "execute_result"
    }
   ],
   "source": [
    "arr % 2 == 0"
   ]
  },
  {
   "cell_type": "code",
   "execution_count": 25,
   "metadata": {},
   "outputs": [
    {
     "data": {
      "text/plain": [
       "array([0, 2, 4, 6, 8])"
      ]
     },
     "execution_count": 25,
     "metadata": {},
     "output_type": "execute_result"
    }
   ],
   "source": [
    "arr[arr % 2 == 0]"
   ]
  },
  {
   "cell_type": "code",
   "execution_count": 26,
   "metadata": {},
   "outputs": [
    {
     "name": "stdout",
     "output_type": "stream",
     "text": [
      "[0 2 4 6 8]\n"
     ]
    }
   ],
   "source": [
    "cntIdx = np.array([0,2,4,6,8])\n",
    "print(arr[cntIdx])"
   ]
  },
  {
   "cell_type": "code",
   "execution_count": 27,
   "metadata": {},
   "outputs": [
    {
     "name": "stdout",
     "output_type": "stream",
     "text": [
      "type : <class 'numpy.ndarray'>\n",
      "shape : (20,)\n",
      "dimension : 1\n",
      "dtype : int32\n",
      "Array Data :\n",
      " [ 1  2  3  4  5  6  7  8  9 10 11 12 13 14 15 16 17 18 19 20]\n",
      "[ 3  6  9 12 15 18]\n",
      "[ 1  5  9 13 17]\n",
      "[9]\n"
     ]
    }
   ],
   "source": [
    "x = np.array([1, 2, 3, 4, 5, 6, 7, 8, 9, 10,\n",
    "             11, 12, 13, 14, 15, 16, 17, 18, 19, 20])\n",
    "aryInfo(x)\n",
    "\n",
    "# 이 배열에서 3의 배수를 찾기\n",
    "print(x[x % 3 == 0])\n",
    "# 이 배열에서 4로 나누면 1이 남는 수를 찾기\n",
    "print(x[x % 4 == 1])\n",
    "# 이 배열에서 3으로 나누면 나누어지고 4로 나누면 1이 남는 수를 찾기\n",
    "print(x[(x % 3 == 0) & (x % 4 == 1)])"
   ]
  },
  {
   "cell_type": "code",
   "execution_count": 28,
   "metadata": {},
   "outputs": [
    {
     "name": "stdout",
     "output_type": "stream",
     "text": [
      "type : <class 'numpy.ndarray'>\n",
      "shape : (3, 4)\n",
      "dimension : 2\n",
      "dtype : int32\n",
      "Array Data :\n",
      " [[ 0  1  2  3]\n",
      " [ 4  5  6  7]\n",
      " [ 8  9 10 11]]\n"
     ]
    }
   ],
   "source": [
    "# fancy indexing\n",
    "# reshape : 배열 생성시 차원을 정해준다.\n",
    "# 배열에 index 배열을 전달하여 배열 요소를 참조\n",
    "\n",
    "fancyAry = np.arange(0,12,1).reshape(3,4)\n",
    "aryInfo(fancyAry)"
   ]
  },
  {
   "cell_type": "code",
   "execution_count": 29,
   "metadata": {},
   "outputs": [
    {
     "name": "stdout",
     "output_type": "stream",
     "text": [
      "10\n",
      "6\n",
      "[6]\n"
     ]
    },
    {
     "ename": "NameError",
     "evalue": "name 'arrInfo' is not defined",
     "output_type": "error",
     "traceback": [
      "\u001b[1;31m---------------------------------------------------------------------------\u001b[0m",
      "\u001b[1;31mNameError\u001b[0m                                 Traceback (most recent call last)",
      "\u001b[1;32m<ipython-input-29-6129e8f8fe57>\u001b[0m in \u001b[0;36m<module>\u001b[1;34m()\u001b[0m\n\u001b[0;32m      6\u001b[0m \u001b[0mprint\u001b[0m\u001b[1;33m(\u001b[0m\u001b[0mfancyAry\u001b[0m\u001b[1;33m[\u001b[0m\u001b[1;36m1\u001b[0m\u001b[1;33m:\u001b[0m\u001b[1;36m2\u001b[0m\u001b[1;33m,\u001b[0m \u001b[1;36m2\u001b[0m\u001b[1;33m]\u001b[0m\u001b[1;33m)\u001b[0m\u001b[1;33m\u001b[0m\u001b[0m\n\u001b[0;32m      7\u001b[0m \u001b[1;31m# 1차원 배열 6 가져오기\u001b[0m\u001b[1;33m\u001b[0m\u001b[1;33m\u001b[0m\u001b[0m\n\u001b[1;32m----> 8\u001b[1;33m \u001b[0mdisplay\u001b[0m\u001b[1;33m(\u001b[0m\u001b[0marrInfo\u001b[0m\u001b[1;33m(\u001b[0m\u001b[0mfancyArr\u001b[0m\u001b[1;33m[\u001b[0m\u001b[1;36m1\u001b[0m\u001b[1;33m:\u001b[0m\u001b[1;36m2\u001b[0m\u001b[1;33m,\u001b[0m \u001b[1;36m2\u001b[0m\u001b[1;33m]\u001b[0m\u001b[1;33m)\u001b[0m\u001b[1;33m)\u001b[0m\u001b[1;33m\u001b[0m\u001b[0m\n\u001b[0m",
      "\u001b[1;31mNameError\u001b[0m: name 'arrInfo' is not defined"
     ]
    }
   ],
   "source": [
    "# 10을 가져오기\n",
    "print(fancyAry[2,2])\n",
    "# 6을 가져오기\n",
    "print(fancyAry[1,2])\n",
    "# 6을 array 형태로 가져오기\n",
    "print(fancyAry[1:2, 2])\n",
    "# 1차원 배열 6 가져오기\n",
    "display(arrInfo(fancyArr[1:2, 2]))"
   ]
  },
  {
   "cell_type": "code",
   "execution_count": null,
   "metadata": {},
   "outputs": [],
   "source": [
    "aryInfo(fancyAry[1:2, 1:2])\n",
    "# 출력되는 형식을 주의"
   ]
  },
  {
   "cell_type": "code",
   "execution_count": null,
   "metadata": {},
   "outputs": [],
   "source": [
    "# 2, 10을 가져오기\n",
    "aryInfo(fancyAry[[0,2], 2])"
   ]
  },
  {
   "cell_type": "code",
   "execution_count": null,
   "metadata": {},
   "outputs": [],
   "source": [
    "# 2, 10을 배열 형식으로 가져오기\n",
    "aryInfo(fancyAry[[0,2], 2:3])"
   ]
  },
  {
   "cell_type": "code",
   "execution_count": null,
   "metadata": {},
   "outputs": [],
   "source": [
    "# 배열 [[0,1,2],[8,9,10]]을 가져오기\n",
    "aryInfo(fancyAry[[0,2], 0:2])"
   ]
  },
  {
   "cell_type": "code",
   "execution_count": null,
   "metadata": {},
   "outputs": [],
   "source": [
    "# [[0, 2], [8, 10]] 만들기\n",
    "arrInfo(fancyArr)\n",
    "\n",
    "rowIdx = np.array([0,2])\n",
    "colIdx = np.array([0,2])\n",
    "\n",
    "print(fancyAry[ [rowIdx]] [:,colIdx])"
   ]
  },
  {
   "cell_type": "markdown",
   "metadata": {},
   "source": [
    "## 배열 변형(타입, 형태)"
   ]
  },
  {
   "cell_type": "code",
   "execution_count": null,
   "metadata": {},
   "outputs": [],
   "source": [
    "x = np.array([1,2,3], dtype='U')\n",
    "aryInfo(x)"
   ]
  },
  {
   "cell_type": "code",
   "execution_count": null,
   "metadata": {},
   "outputs": [],
   "source": [
    "x[0] + x[1] # dtype f로 주면 3 나옴"
   ]
  },
  {
   "cell_type": "markdown",
   "metadata": {},
   "source": [
    "- zeros, ones\n",
    "- zeros_like, ones_like\n",
    "- empty\n",
    "- arange\n",
    "- linspace, logspace\n",
    "\n",
    "\n",
    "- zeros : 크기가 정해져 있고 모든 값이 0인 배열을 생성"
   ]
  },
  {
   "cell_type": "code",
   "execution_count": null,
   "metadata": {},
   "outputs": [],
   "source": [
    "# z = np.zeros(5)\n",
    "# aryInfo(z)\n",
    "z = np.zeros(5, dtype='U')\n",
    "aryInfo(z)"
   ]
  },
  {
   "cell_type": "code",
   "execution_count": null,
   "metadata": {},
   "outputs": [],
   "source": [
    "z = np.zeros((2,3), dtype='i')\n",
    "aryInfo(z)"
   ]
  },
  {
   "cell_type": "code",
   "execution_count": null,
   "metadata": {},
   "outputs": [],
   "source": [
    "o = np.ones((2,3,4), dtype='i8')\n",
    "aryInfo(o)"
   ]
  },
  {
   "cell_type": "code",
   "execution_count": null,
   "metadata": {},
   "outputs": [],
   "source": [
    "o_like = np.ones_like(o, dtype='f')\n",
    "aryInfo(o_like)"
   ]
  },
  {
   "cell_type": "code",
   "execution_count": null,
   "metadata": {},
   "outputs": [],
   "source": [
    "z_like = np.zeros_like(z)\n",
    "aryInfo(z_like)"
   ]
  },
  {
   "cell_type": "code",
   "execution_count": null,
   "metadata": {},
   "outputs": [],
   "source": [
    "# empty\n",
    "# 값이 없는 비어있는 배열을 만든다.\n",
    "# 나오는 값은 저장공간의 주소값이다. 실제 값이 아니다.\n",
    "e = np.empty((4, 3))\n",
    "arrInfo(e)"
   ]
  },
  {
   "cell_type": "code",
   "execution_count": null,
   "metadata": {},
   "outputs": [],
   "source": [
    "a = np.arange(10)\n",
    "aryInfo(a)"
   ]
  },
  {
   "cell_type": "code",
   "execution_count": null,
   "metadata": {},
   "outputs": [],
   "source": [
    "a = np.arange(3, 21, 2)\n",
    "aryInfo(a)"
   ]
  },
  {
   "cell_type": "code",
   "execution_count": null,
   "metadata": {},
   "outputs": [],
   "source": [
    "# 전치행렬\n",
    "# 행렬의 행은 열로, 열은 행으로 바꾼 행렬\n",
    "# 속성 T\n",
    "# transpose operation\n",
    "arr = np.array([[1, 2, 3], [4, 5, 6]])\n",
    "arrInfo(arr)"
   ]
  },
  {
   "cell_type": "code",
   "execution_count": null,
   "metadata": {},
   "outputs": [],
   "source": [
    "arr_transpose = arr.T\n",
    "aryInfo(arr_transpose)"
   ]
  },
  {
   "cell_type": "code",
   "execution_count": null,
   "metadata": {},
   "outputs": [],
   "source": [
    "# Vector에 transpose 가능할까?\n",
    "# 문법 상 오류는 없지만 의미가 없다.\n",
    "vec = np.arange(10)\n",
    "aryInfo(vec)"
   ]
  },
  {
   "cell_type": "code",
   "execution_count": null,
   "metadata": {},
   "outputs": [],
   "source": [
    "vec_transpose=vec.reshape(1,10).T\n",
    "aryInfo(vec_transpose)"
   ]
  },
  {
   "cell_type": "markdown",
   "metadata": {},
   "source": [
    "- 배열의 원소를 순차적으로 access\n",
    "- for (Vector, Matrix)\n",
    "- iterator(internext(), finished 속성을 이용해서 ndarray 모든 요소를 순차적으로 접근할 수 있다.)"
   ]
  },
  {
   "cell_type": "code",
   "execution_count": null,
   "metadata": {},
   "outputs": [],
   "source": [
    "arr = np.array([1,2,3,4,5])"
   ]
  },
  {
   "cell_type": "code",
   "execution_count": null,
   "metadata": {},
   "outputs": [],
   "source": [
    "for tmp in arr :\n",
    "    print(tmp, end=\" \")"
   ]
  },
  {
   "cell_type": "code",
   "execution_count": null,
   "metadata": {},
   "outputs": [],
   "source": [
    "for idx in range(len(arr)) :\n",
    "    print(arr[idx], end=\" \")"
   ]
  },
  {
   "cell_type": "code",
   "execution_count": null,
   "metadata": {},
   "outputs": [],
   "source": [
    "ite = np.nditer(arr, flags=['c_index'])\n",
    "while not ite.finished :\n",
    "    print(arr[ite.index], end=\" \")\n",
    "    ite.iternext()"
   ]
  },
  {
   "cell_type": "code",
   "execution_count": null,
   "metadata": {},
   "outputs": [],
   "source": [
    "arr = np.array([[1,2,3],[4,5,6]])\n",
    "aryInfo(arr)"
   ]
  },
  {
   "cell_type": "code",
   "execution_count": null,
   "metadata": {},
   "outputs": [],
   "source": [
    "# 2차원 배열에 대한 순차적 접근 코드 작성\n",
    "# print(arr.shape[0]) : row\n",
    "# print(arr.shape[1]) : col\n",
    "\n",
    "for i in range(arr.shape[0]) :\n",
    "    for j in range(arr.shape[1]) :\n",
    "        print(arr[i,j], end = \"\\t\") # arr[i][j] 도 가능\n",
    "    print(\"\\n\")"
   ]
  },
  {
   "cell_type": "code",
   "execution_count": null,
   "metadata": {},
   "outputs": [],
   "source": [
    "ite = np.nditer(arr, flags=['multi_index'])\n",
    "while not ite.finished :\n",
    "    print(arr[ite.multi_index], end=\" \")\n",
    "    ite.iternext()"
   ]
  },
  {
   "cell_type": "code",
   "execution_count": null,
   "metadata": {},
   "outputs": [],
   "source": []
  }
 ],
 "metadata": {
  "kernelspec": {
   "display_name": "Python 3",
   "language": "python",
   "name": "python3"
  },
  "language_info": {
   "codemirror_mode": {
    "name": "ipython",
    "version": 3
   },
   "file_extension": ".py",
   "mimetype": "text/x-python",
   "name": "python",
   "nbconvert_exporter": "python",
   "pygments_lexer": "ipython3",
   "version": "3.6.5"
  }
 },
 "nbformat": 4,
 "nbformat_minor": 2
}
