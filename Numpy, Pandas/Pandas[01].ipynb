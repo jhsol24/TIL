{
 "cells": [
  {
   "cell_type": "markdown",
   "metadata": {},
   "source": [
    "# Pandas\n",
    "- 분석하려는 데이터는 대부분 시계열(Series)이거나 표(table) 형태로 정의해야 한다.\n",
    "- Series 클래스와 DataFrame 클래스를 제공한다."
   ]
  },
  {
   "cell_type": "code",
   "execution_count": 1,
   "metadata": {},
   "outputs": [],
   "source": [
    "import pandas as pd\n",
    "import numpy as np\n",
    "import matplotlib.pyplot as plt"
   ]
  },
  {
   "cell_type": "markdown",
   "metadata": {},
   "source": [
    "## Series 클래스\n",
    "- numpy의 1차원 배열과 비슷하지만 각 데이터의 의미를 표시하는 인덱스를 붙일 수 있다.\n",
    "- Series = index + value"
   ]
  },
  {
   "cell_type": "code",
   "execution_count": 2,
   "metadata": {},
   "outputs": [
    {
     "name": "stdout",
     "output_type": "stream",
     "text": [
      "[1 2 3 4 'jslim']\n",
      "object\n"
     ]
    }
   ],
   "source": [
    "# Series와 numpy array 비교\n",
    "arr = np.array([1,2,3,4,'jslim'], dtype=np.object)\n",
    "print(arr)\n",
    "print(arr.dtype)"
   ]
  },
  {
   "cell_type": "code",
   "execution_count": 3,
   "metadata": {},
   "outputs": [
    {
     "name": "stdout",
     "output_type": "stream",
     "text": [
      "0    1.0\n",
      "1    2.0\n",
      "2    3.0\n",
      "3    4.0\n",
      "dtype: float64\n",
      "[1. 2. 3. 4.]\n",
      "<class 'numpy.ndarray'>\n",
      "RangeIndex(start=0, stop=4, step=1)\n",
      "<class 'pandas.core.indexes.range.RangeIndex'>\n"
     ]
    }
   ],
   "source": [
    "s = pd.Series([1,2,3,4], dtype=np.float64)\n",
    "print(s)\n",
    "print(s.values)\n",
    "print(type(s.values))\n",
    "print(s.index)\n",
    "print(type(s.index))"
   ]
  },
  {
   "cell_type": "code",
   "execution_count": 4,
   "metadata": {},
   "outputs": [],
   "source": [
    "def serieInfo(s) :\n",
    "    print('value : ', s.values)\n",
    "    print('value type : ', type(s.values))\n",
    "    print('index : ', s.index)\n",
    "    print('index type : ', type(s.index))\n",
    "    print('index + value : ', s)\n",
    "    print(s)"
   ]
  },
  {
   "cell_type": "code",
   "execution_count": 5,
   "metadata": {},
   "outputs": [
    {
     "name": "stdout",
     "output_type": "stream",
     "text": [
      "value :  [344234  23423   3453  45674]\n",
      "value type :  <class 'numpy.ndarray'>\n",
      "index :  Index(['서울', '부산', '대전', '광주'], dtype='object')\n",
      "index type :  <class 'pandas.core.indexes.base.Index'>\n",
      "index + value :  서울    344234\n",
      "부산     23423\n",
      "대전      3453\n",
      "광주     45674\n",
      "dtype: int32\n",
      "서울    344234\n",
      "부산     23423\n",
      "대전      3453\n",
      "광주     45674\n",
      "dtype: int32\n"
     ]
    }
   ],
   "source": [
    "# 인덱스의 라벨은 문자열뿐만 아니라 날짜, 시간, 정수 등 가능\n",
    "s = pd.Series([344234, 23423, 3453, 45674],\n",
    "              dtype=np.int32,\n",
    "              index=['서울','부산','대전','광주'])\n",
    "serieInfo(s)"
   ]
  },
  {
   "cell_type": "code",
   "execution_count": 6,
   "metadata": {},
   "outputs": [
    {
     "name": "stdout",
     "output_type": "stream",
     "text": [
      "지역별\n",
      "서울    344234\n",
      "부산     23423\n",
      "대전      3453\n",
      "광주     45674\n",
      "dtype: int32\n"
     ]
    }
   ],
   "source": [
    "s.index.name = '지역별'\n",
    "print(s)"
   ]
  },
  {
   "cell_type": "code",
   "execution_count": 7,
   "metadata": {},
   "outputs": [
    {
     "data": {
      "text/plain": [
       "지역별\n",
       "서울    3442.34\n",
       "부산     234.23\n",
       "대전      34.53\n",
       "광주     456.74\n",
       "dtype: float64"
      ]
     },
     "execution_count": 7,
     "metadata": {},
     "output_type": "execute_result"
    }
   ],
   "source": [
    "# Series 연산\n",
    "# index에 영향을 미치지 않는다\n",
    "s/100"
   ]
  },
  {
   "cell_type": "code",
   "execution_count": 8,
   "metadata": {},
   "outputs": [
    {
     "data": {
      "text/plain": [
       "지역별\n",
       "서울    3.44234\n",
       "부산    0.23423\n",
       "대전    0.03453\n",
       "광주    0.45674\n",
       "dtype: float64"
      ]
     },
     "execution_count": 8,
     "metadata": {},
     "output_type": "execute_result"
    }
   ],
   "source": [
    "s/100000"
   ]
  },
  {
   "cell_type": "markdown",
   "metadata": {},
   "source": [
    "### series indexing"
   ]
  },
  {
   "cell_type": "code",
   "execution_count": 9,
   "metadata": {},
   "outputs": [
    {
     "data": {
      "text/plain": [
       "지역별\n",
       "서울    344234\n",
       "부산     23423\n",
       "dtype: int32"
      ]
     },
     "execution_count": 9,
     "metadata": {},
     "output_type": "execute_result"
    }
   ],
   "source": [
    "s['서울':'부산'] \n",
    "# label indexing 은 정수가 아니기 때문에 end - 1 을 하지 않는다."
   ]
  },
  {
   "cell_type": "code",
   "execution_count": 10,
   "metadata": {},
   "outputs": [
    {
     "data": {
      "text/plain": [
       "지역별\n",
       "서울    344234\n",
       "대전      3453\n",
       "dtype: int32"
      ]
     },
     "execution_count": 10,
     "metadata": {},
     "output_type": "execute_result"
    }
   ],
   "source": [
    "s[['서울','대전']] \n",
    "# 부분 indexing 은 대괄호를 하나 더 추가해준다.\n",
    "# numpy와 비슷하지만 형식이 series"
   ]
  },
  {
   "cell_type": "code",
   "execution_count": 11,
   "metadata": {},
   "outputs": [
    {
     "data": {
      "text/plain": [
       "False"
      ]
     },
     "execution_count": 11,
     "metadata": {},
     "output_type": "execute_result"
    }
   ],
   "source": [
    "'강원' in s"
   ]
  },
  {
   "cell_type": "code",
   "execution_count": 12,
   "metadata": {},
   "outputs": [
    {
     "name": "stdout",
     "output_type": "stream",
     "text": [
      "key : 서울, value = 344234\n",
      "key : 부산, value = 23423\n",
      "key : 대전, value = 3453\n",
      "key : 광주, value = 45674\n"
     ]
    }
   ],
   "source": [
    "#  dictionary 데이터 타입처럼 사용 가능\n",
    "for key, value in s.items() :\n",
    "    print('key : {}, value = {}'.format(key, value))"
   ]
  },
  {
   "cell_type": "code",
   "execution_count": 13,
   "metadata": {},
   "outputs": [
    {
     "name": "stdout",
     "output_type": "stream",
     "text": [
      "value :  [ 1.  5. -8. 10.]\n",
      "value type :  <class 'numpy.ndarray'>\n",
      "index :  Index(['c', 'b', 'a', 'k'], dtype='object')\n",
      "index type :  <class 'pandas.core.indexes.base.Index'>\n",
      "index + value :  c     1.0\n",
      "b     5.0\n",
      "a    -8.0\n",
      "k    10.0\n",
      "dtype: float64\n",
      "c     1.0\n",
      "b     5.0\n",
      "a    -8.0\n",
      "k    10.0\n",
      "dtype: float64\n"
     ]
    }
   ],
   "source": [
    "s2 = pd.Series({'c':1, 'b':'5', 'a':-8, 'k':10}, dtype=np.float64)\n",
    "serieInfo(s2)"
   ]
  },
  {
   "cell_type": "code",
   "execution_count": 14,
   "metadata": {},
   "outputs": [
    {
     "name": "stdout",
     "output_type": "stream",
     "text": [
      "fancy [0,2] indexing : c    1.0\n",
      "a   -8.0\n",
      "dtype: float64\n",
      "boolean s2%2==0 : a    -8.0\n",
      "k    10.0\n",
      "dtype: float64\n"
     ]
    }
   ],
   "source": [
    "# Fancy Indexing & Boolean Indexing\n",
    "print('fancy [0,2] indexing : {}'.format (s2[ [0,2] ]) )\n",
    "\n",
    "# Boolean Indexing 2의 배수인 것\n",
    "print('boolean s2%2==0 : {}'.format ( s2[s2%2==0] ))"
   ]
  },
  {
   "cell_type": "code",
   "execution_count": 31,
   "metadata": {},
   "outputs": [
    {
     "name": "stdout",
     "output_type": "stream",
     "text": [
      "value :  [     nan 3445674.   23423.  344234.]\n",
      "value type :  <class 'numpy.ndarray'>\n",
      "index :  Index(['광주', '대전', '부산', '서울'], dtype='object')\n",
      "index type :  <class 'pandas.core.indexes.base.Index'>\n",
      "index + value :  광주          NaN\n",
      "대전    3445674.0\n",
      "부산      23423.0\n",
      "서울     344234.0\n",
      "dtype: float64\n"
     ]
    }
   ],
   "source": [
    "# index 의 라벨은 문자열뿐만 아니라 날짜, 시간, 정수 등 가능\n",
    "s3 = pd.Series({'서울' : 344234, '부산' : 23423, '인천' : 3453343, '대전' : 3445674},\n",
    "               dtype=np.int32,\n",
    "               index=['광주','대전','부산','서울'])\n",
    "serieInfo(s3)"
   ]
  },
  {
   "cell_type": "code",
   "execution_count": 46,
   "metadata": {},
   "outputs": [
    {
     "name": "stdout",
     "output_type": "stream",
     "text": [
      "a    NaN\n",
      "b    NaN\n",
      "c    NaN\n",
      "k    NaN\n",
      "광주   NaN\n",
      "대전   NaN\n",
      "부산   NaN\n",
      "서울   NaN\n",
      "dtype: float64\n"
     ]
    }
   ],
   "source": [
    "diff_s = s - s2\n",
    "print(diff_s)\n",
    "# index가 다르기 때문에 NaN 값 나온다."
   ]
  },
  {
   "cell_type": "markdown",
   "metadata": {},
   "source": [
    "### Series 를 활용한 날짜 데이터 응용\n",
    ">- A 공장의 2019-01-01 부터 10 일간의 생산량을 Series 저장\n",
    "- 생산량은 평균이 50 이고 편차가 5 인 정규분포 생성(정수)\n",
    "\n",
    ">- B 공장의 2019-01-01 부터 10 일간의 생산량을 Series 저장\n",
    "- 생샨량은 평균이 70 이고 편차가 8 인 정규분포 생성(정수)\n",
    "\n",
    ">- 날짜별로 모든 공장의 생산량 합계를 구하기"
   ]
  },
  {
   "cell_type": "code",
   "execution_count": 34,
   "metadata": {},
   "outputs": [],
   "source": [
    "import pandas as pd\n",
    "import numpy as np\n",
    "from datetime import date, datetime, timedelta\n",
    "from dateutil.parser import parse"
   ]
  },
  {
   "cell_type": "code",
   "execution_count": 52,
   "metadata": {},
   "outputs": [
    {
     "name": "stdout",
     "output_type": "stream",
     "text": [
      "2019-01-01 00:00:00\n",
      "2019-01-01    48\n",
      "2019-01-02    51\n",
      "2019-01-03    52\n",
      "2019-01-04    45\n",
      "2019-01-05    50\n",
      "2019-01-06    56\n",
      "2019-01-07    55\n",
      "2019-01-08    52\n",
      "2019-01-09    54\n",
      "2019-01-10    55\n",
      "dtype: int64\n",
      "**************************************************\n",
      "2019-01-01    79\n",
      "2019-01-02    67\n",
      "2019-01-03    64\n",
      "2019-01-04    70\n",
      "2019-01-05    60\n",
      "2019-01-06    72\n",
      "2019-01-07    70\n",
      "2019-01-08    72\n",
      "2019-01-09    73\n",
      "2019-01-10    76\n",
      "dtype: int64\n"
     ]
    }
   ],
   "source": [
    "start_day = datetime(2019, 1, 1)\n",
    "print(start_day)\n",
    "facA = pd.Series([ int(x) for x in np.random.normal(50, 5, (10,))],\n",
    "                index=[start_day + timedelta(days=x) for x in range(10)])\n",
    "print(facA)\n",
    "facB = pd.Series([ int(x) for x in np.random.normal(70, 8, (10,))],\n",
    "                index=[start_day + timedelta(days=x) for x in range(10)])\n",
    "print(\"*\"*50)\n",
    "print(facB)"
   ]
  },
  {
   "cell_type": "code",
   "execution_count": 53,
   "metadata": {},
   "outputs": [
    {
     "name": "stdout",
     "output_type": "stream",
     "text": [
      "2019-01-03 00:00:00\n"
     ]
    }
   ],
   "source": [
    "# 단위 테스트를 위한 셀\n",
    "# type( np.random.normal(50, 5, (10,)))\n",
    "print(start_day + timedelta(days=2))"
   ]
  },
  {
   "cell_type": "code",
   "execution_count": 54,
   "metadata": {},
   "outputs": [
    {
     "name": "stdout",
     "output_type": "stream",
     "text": [
      "2019-01-01    127\n",
      "2019-01-02    118\n",
      "2019-01-03    116\n",
      "2019-01-04    115\n",
      "2019-01-05    110\n",
      "2019-01-06    128\n",
      "2019-01-07    125\n",
      "2019-01-08    124\n",
      "2019-01-09    127\n",
      "2019-01-10    131\n",
      "dtype: int64\n"
     ]
    }
   ],
   "source": [
    "print(facA + facB)"
   ]
  }
 ],
 "metadata": {
  "kernelspec": {
   "display_name": "Python 3",
   "language": "python",
   "name": "python3"
  },
  "language_info": {
   "codemirror_mode": {
    "name": "ipython",
    "version": 3
   },
   "file_extension": ".py",
   "mimetype": "text/x-python",
   "name": "python",
   "nbconvert_exporter": "python",
   "pygments_lexer": "ipython3",
   "version": "3.6.5"
  }
 },
 "nbformat": 4,
 "nbformat_minor": 2
}
