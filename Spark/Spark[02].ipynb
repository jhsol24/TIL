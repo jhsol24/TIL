{
 "cells": [
  {
   "cell_type": "markdown",
   "metadata": {},
   "source": [
    "# Spark DataFrame\n",
    "Spark에서 DataFrame을 불러오고 활용한다.\n",
    "SQL을 활용하여 실제 SQL를 사용하듯 코드를 작성하고 결과를 낼 수 있다.\n",
    "\n",
    "### Point\n",
    "- printSchema()를 활용해 칼럼별 데이터의 형식을 확인하며 코드를 작성하면 편리하다.\n",
    "- show()를 통해 head()처럼 데이터의 대략적인 구조를 확인할 수 있다.\n",
    "- filter()를 활용해 조건식을 작성 가능하다. where 절과 같은 기능\n",
    "- 현업에서 사용하는 빈도는 적을 수 있지만 배우고 알고 있다는 것에 의미를 둘 수 있다."
   ]
  },
  {
   "cell_type": "code",
   "execution_count": 1,
   "metadata": {},
   "outputs": [],
   "source": [
    "from pyspark import SparkConf, SparkContext\n",
    "from pyspark.sql import SQLContext"
   ]
  },
  {
   "cell_type": "code",
   "execution_count": 2,
   "metadata": {},
   "outputs": [
    {
     "data": {
      "text/html": [
       "\n",
       "        <div>\n",
       "            <p><b>SparkContext</b></p>\n",
       "\n",
       "            <p><a href=\"http://DESKTOP-LNQ5KS1:4040\">Spark UI</a></p>\n",
       "\n",
       "            <dl>\n",
       "              <dt>Version</dt>\n",
       "                <dd><code>v2.4.6</code></dd>\n",
       "              <dt>Master</dt>\n",
       "                <dd><code>local</code></dd>\n",
       "              <dt>AppName</dt>\n",
       "                <dd><code>sparkApp</code></dd>\n",
       "            </dl>\n",
       "        </div>\n",
       "        "
      ],
      "text/plain": [
       "<SparkContext master=local appName=sparkApp>"
      ]
     },
     "execution_count": 2,
     "metadata": {},
     "output_type": "execute_result"
    }
   ],
   "source": [
    "conf  = SparkConf().setMaster('local').setAppName('sparkApp')\n",
    "spark = SparkContext(conf=conf)\n",
    "spark"
   ]
  },
  {
   "cell_type": "code",
   "execution_count": 3,
   "metadata": {},
   "outputs": [
    {
     "data": {
      "text/plain": [
       "<pyspark.sql.context.SQLContext at 0x1d2c119f2b0>"
      ]
     },
     "execution_count": 3,
     "metadata": {},
     "output_type": "execute_result"
    }
   ],
   "source": [
    "sqlCtx = SQLContext(spark)\n",
    "sqlCtx"
   ]
  },
  {
   "cell_type": "markdown",
   "metadata": {},
   "source": [
    "- csv 파일을 이용한 DataFrame 만들기\n",
    "- 저번 시간에는 json 파일을 DataFrame으로 로드"
   ]
  },
  {
   "cell_type": "code",
   "execution_count": 16,
   "metadata": {},
   "outputs": [
    {
     "data": {
      "text/plain": [
       "DataFrame[OrderID: int, CustomerID: int, EmployeeID: int, OrderDate: string, ShipperID: double]"
      ]
     },
     "execution_count": 16,
     "metadata": {},
     "output_type": "execute_result"
    }
   ],
   "source": [
    "orders = sqlCtx.read.csv('./data/orders.csv', \n",
    "                         header=True, \n",
    "                         inferSchema=True)\n",
    "orders"
   ]
  },
  {
   "cell_type": "code",
   "execution_count": 31,
   "metadata": {},
   "outputs": [
    {
     "name": "stdout",
     "output_type": "stream",
     "text": [
      "root\n",
      " |-- OrderID: integer (nullable = true)\n",
      " |-- CustomerID: integer (nullable = true)\n",
      " |-- EmployeeID: integer (nullable = true)\n",
      " |-- OrderDate: string (nullable = true)\n",
      " |-- ShipperID: double (nullable = true)\n",
      "\n"
     ]
    }
   ],
   "source": [
    "orders.printSchema()"
   ]
  },
  {
   "cell_type": "code",
   "execution_count": 18,
   "metadata": {},
   "outputs": [
    {
     "name": "stdout",
     "output_type": "stream",
     "text": [
      "['OrderID', 'CustomerID', 'EmployeeID', 'OrderDate', 'ShipperID']\n",
      "<class 'list'>\n"
     ]
    }
   ],
   "source": [
    "print(orders.columns)\n",
    "print(type(orders.columns))"
   ]
  },
  {
   "cell_type": "code",
   "execution_count": 19,
   "metadata": {},
   "outputs": [
    {
     "name": "stdout",
     "output_type": "stream",
     "text": [
      "+-------+-----------------+------------------+------------------+---------+------------------+\n",
      "|summary|          OrderID|        CustomerID|        EmployeeID|OrderDate|         ShipperID|\n",
      "+-------+-----------------+------------------+------------------+---------+------------------+\n",
      "|  count|              196|               196|               196|      196|               196|\n",
      "|   mean|          10345.5| 48.64795918367347|4.3520408163265305|     null|2.0714285714285716|\n",
      "| stddev|56.72448031200168|25.621776513566466|  2.41651283366105|     null|0.7877263614433762|\n",
      "|    min|            10248|                 2|                 1| 1/1/1997|               1.0|\n",
      "|    max|            10443|                91|                 9| 9/9/1996|               3.0|\n",
      "+-------+-----------------+------------------+------------------+---------+------------------+\n",
      "\n"
     ]
    }
   ],
   "source": [
    "orders.describe().show()"
   ]
  },
  {
   "cell_type": "code",
   "execution_count": 20,
   "metadata": {},
   "outputs": [
    {
     "name": "stdout",
     "output_type": "stream",
     "text": [
      "+-------+-----------------+------------------+------------------+---------+------------------+\n",
      "|summary|          OrderID|        CustomerID|        EmployeeID|OrderDate|         ShipperID|\n",
      "+-------+-----------------+------------------+------------------+---------+------------------+\n",
      "|  count|              196|               196|               196|      196|               196|\n",
      "|   mean|          10345.5| 48.64795918367347|4.3520408163265305|     null|2.0714285714285716|\n",
      "| stddev|56.72448031200168|25.621776513566466|  2.41651283366105|     null|0.7877263614433762|\n",
      "|    min|            10248|                 2|                 1| 1/1/1997|               1.0|\n",
      "|    25%|            10296|                25|                 2|     null|               1.0|\n",
      "|    50%|            10345|                51|                 4|     null|               2.0|\n",
      "|    75%|            10394|                69|                 6|     null|               3.0|\n",
      "|    max|            10443|                91|                 9| 9/9/1996|               3.0|\n",
      "+-------+-----------------+------------------+------------------+---------+------------------+\n",
      "\n"
     ]
    }
   ],
   "source": [
    "orders.summary().show()"
   ]
  },
  {
   "cell_type": "code",
   "execution_count": 22,
   "metadata": {},
   "outputs": [
    {
     "data": {
      "text/plain": [
       "Row(OrderID=10248, CustomerID=90, EmployeeID=5, OrderDate='7/4/1996', ShipperID=3.0)"
      ]
     },
     "execution_count": 22,
     "metadata": {},
     "output_type": "execute_result"
    }
   ],
   "source": [
    "orders.first()"
   ]
  },
  {
   "cell_type": "code",
   "execution_count": 23,
   "metadata": {},
   "outputs": [
    {
     "name": "stdout",
     "output_type": "stream",
     "text": [
      "+-------+----------+\n",
      "|OrderID|CustomerID|\n",
      "+-------+----------+\n",
      "|  10248|        90|\n",
      "|  10249|        81|\n",
      "|  10250|        34|\n",
      "|  10251|        84|\n",
      "|  10252|        76|\n",
      "|  10253|        34|\n",
      "|  10254|        14|\n",
      "|  10255|        68|\n",
      "|  10256|        88|\n",
      "|  10257|        35|\n",
      "|  10258|        20|\n",
      "|  10259|        13|\n",
      "|  10260|        55|\n",
      "|  10261|        61|\n",
      "|  10262|        65|\n",
      "|  10263|        20|\n",
      "|  10264|        24|\n",
      "|  10265|         7|\n",
      "|  10266|        87|\n",
      "|  10267|        25|\n",
      "+-------+----------+\n",
      "only showing top 20 rows\n",
      "\n"
     ]
    }
   ],
   "source": [
    "# 검색 select()\n",
    "orders.select(['OrderID', 'CustomerID']).show()"
   ]
  },
  {
   "cell_type": "code",
   "execution_count": 24,
   "metadata": {},
   "outputs": [
    {
     "name": "stdout",
     "output_type": "stream",
     "text": [
      "+-------+----------+----------+---------+---------+----------+\n",
      "|OrderID|CustomerID|EmployeeID|OrderDate|ShipperID|newOrderID|\n",
      "+-------+----------+----------+---------+---------+----------+\n",
      "|  10248|        90|         5| 7/4/1996|      3.0|     20496|\n",
      "|  10249|        81|         6| 7/5/1996|      1.0|     20498|\n",
      "|  10250|        34|         4| 7/8/1996|      2.0|     20500|\n",
      "|  10251|        84|         3| 7/8/1996|      1.0|     20502|\n",
      "|  10252|        76|         4| 7/9/1996|      2.0|     20504|\n",
      "|  10253|        34|         3|7/10/1996|      2.0|     20506|\n",
      "|  10254|        14|         5|7/11/1996|      2.0|     20508|\n",
      "|  10255|        68|         9|7/12/1996|      3.0|     20510|\n",
      "|  10256|        88|         3|7/15/1996|      2.0|     20512|\n",
      "|  10257|        35|         4|7/16/1996|      3.0|     20514|\n",
      "|  10258|        20|         1|7/17/1996|      1.0|     20516|\n",
      "|  10259|        13|         4|7/18/1996|      3.0|     20518|\n",
      "|  10260|        55|         4|7/19/1996|      1.0|     20520|\n",
      "|  10261|        61|         4|7/19/1996|      2.0|     20522|\n",
      "|  10262|        65|         8|7/22/1996|      3.0|     20524|\n",
      "|  10263|        20|         9|7/23/1996|      3.0|     20526|\n",
      "|  10264|        24|         6|7/24/1996|      3.0|     20528|\n",
      "|  10265|         7|         2|7/25/1996|      1.0|     20530|\n",
      "|  10266|        87|         3|7/26/1996|      3.0|     20532|\n",
      "|  10267|        25|         4|7/29/1996|      1.0|     20534|\n",
      "+-------+----------+----------+---------+---------+----------+\n",
      "only showing top 20 rows\n",
      "\n"
     ]
    }
   ],
   "source": [
    "# withColumn()\n",
    "# orders.show()\n",
    "orders.withColumn('newOrderID', orders['OrderID']*2).show()"
   ]
  },
  {
   "cell_type": "code",
   "execution_count": 28,
   "metadata": {},
   "outputs": [
    {
     "name": "stdout",
     "output_type": "stream",
     "text": [
      "+-------------+----------+----------+---------+---------+\n",
      "|renameOrderID|CustomerID|EmployeeID|OrderDate|ShipperID|\n",
      "+-------------+----------+----------+---------+---------+\n",
      "|        10248|        90|         5| 7/4/1996|      3.0|\n",
      "|        10249|        81|         6| 7/5/1996|      1.0|\n",
      "|        10250|        34|         4| 7/8/1996|      2.0|\n",
      "|        10251|        84|         3| 7/8/1996|      1.0|\n",
      "|        10252|        76|         4| 7/9/1996|      2.0|\n",
      "|        10253|        34|         3|7/10/1996|      2.0|\n",
      "|        10254|        14|         5|7/11/1996|      2.0|\n",
      "|        10255|        68|         9|7/12/1996|      3.0|\n",
      "|        10256|        88|         3|7/15/1996|      2.0|\n",
      "|        10257|        35|         4|7/16/1996|      3.0|\n",
      "|        10258|        20|         1|7/17/1996|      1.0|\n",
      "|        10259|        13|         4|7/18/1996|      3.0|\n",
      "|        10260|        55|         4|7/19/1996|      1.0|\n",
      "|        10261|        61|         4|7/19/1996|      2.0|\n",
      "|        10262|        65|         8|7/22/1996|      3.0|\n",
      "|        10263|        20|         9|7/23/1996|      3.0|\n",
      "|        10264|        24|         6|7/24/1996|      3.0|\n",
      "|        10265|         7|         2|7/25/1996|      1.0|\n",
      "|        10266|        87|         3|7/26/1996|      3.0|\n",
      "|        10267|        25|         4|7/29/1996|      1.0|\n",
      "+-------------+----------+----------+---------+---------+\n",
      "only showing top 20 rows\n",
      "\n"
     ]
    }
   ],
   "source": [
    "orders.withColumnRenamed('OrderID','renameOrderID').show()"
   ]
  },
  {
   "cell_type": "code",
   "execution_count": 29,
   "metadata": {},
   "outputs": [
    {
     "name": "stdout",
     "output_type": "stream",
     "text": [
      "+-------+----------+----------+---------+---------+\n",
      "|OrderID|CustomerID|EmployeeID|OrderDate|ShipperID|\n",
      "+-------+----------+----------+---------+---------+\n",
      "|  10248|        90|         5| 7/4/1996|      3.0|\n",
      "|  10249|        81|         6| 7/5/1996|      1.0|\n",
      "|  10250|        34|         4| 7/8/1996|      2.0|\n",
      "|  10251|        84|         3| 7/8/1996|      1.0|\n",
      "|  10252|        76|         4| 7/9/1996|      2.0|\n",
      "|  10253|        34|         3|7/10/1996|      2.0|\n",
      "|  10254|        14|         5|7/11/1996|      2.0|\n",
      "|  10255|        68|         9|7/12/1996|      3.0|\n",
      "|  10256|        88|         3|7/15/1996|      2.0|\n",
      "|  10257|        35|         4|7/16/1996|      3.0|\n",
      "|  10258|        20|         1|7/17/1996|      1.0|\n",
      "|  10259|        13|         4|7/18/1996|      3.0|\n",
      "|  10260|        55|         4|7/19/1996|      1.0|\n",
      "|  10261|        61|         4|7/19/1996|      2.0|\n",
      "|  10262|        65|         8|7/22/1996|      3.0|\n",
      "|  10263|        20|         9|7/23/1996|      3.0|\n",
      "|  10264|        24|         6|7/24/1996|      3.0|\n",
      "|  10265|         7|         2|7/25/1996|      1.0|\n",
      "|  10266|        87|         3|7/26/1996|      3.0|\n",
      "|  10267|        25|         4|7/29/1996|      1.0|\n",
      "+-------+----------+----------+---------+---------+\n",
      "only showing top 20 rows\n",
      "\n"
     ]
    }
   ],
   "source": [
    "orders.show()"
   ]
  },
  {
   "cell_type": "code",
   "execution_count": 30,
   "metadata": {},
   "outputs": [
    {
     "name": "stdout",
     "output_type": "stream",
     "text": [
      "+----------+-----+\n",
      "|EmployeeID|count|\n",
      "+----------+-----+\n",
      "|         1|   29|\n",
      "|         6|   18|\n",
      "|         3|   31|\n",
      "|         5|   11|\n",
      "|         9|    6|\n",
      "|         4|   40|\n",
      "|         8|   27|\n",
      "|         7|   14|\n",
      "|         2|   20|\n",
      "+----------+-----+\n",
      "\n"
     ]
    }
   ],
   "source": [
    "# groupby() - 집계 함수\n",
    "orders.groupBy('EmployeeID').count().show()"
   ]
  },
  {
   "cell_type": "markdown",
   "metadata": {},
   "source": [
    "## Cospi 데이터 다루기"
   ]
  },
  {
   "cell_type": "code",
   "execution_count": 35,
   "metadata": {},
   "outputs": [],
   "source": [
    "orders = sqlCtx.read.csv('./data/cospi.csv', \n",
    "                         header=True, \n",
    "                         inferSchema=True)"
   ]
  },
  {
   "cell_type": "code",
   "execution_count": 49,
   "metadata": {},
   "outputs": [
    {
     "name": "stdout",
     "output_type": "stream",
     "text": [
      "root\n",
      " |-- Date: timestamp (nullable = true)\n",
      " |-- Open: integer (nullable = true)\n",
      " |-- High: integer (nullable = true)\n",
      " |-- Low: integer (nullable = true)\n",
      " |-- Close: integer (nullable = true)\n",
      " |-- Volume: integer (nullable = true)\n",
      "\n"
     ]
    }
   ],
   "source": [
    "orders.printSchema()"
   ]
  },
  {
   "cell_type": "code",
   "execution_count": 50,
   "metadata": {},
   "outputs": [
    {
     "name": "stdout",
     "output_type": "stream",
     "text": [
      "+-------------------+-------+-------+-------+-------+------+\n",
      "|               Date|   Open|   High|    Low|  Close|Volume|\n",
      "+-------------------+-------+-------+-------+-------+------+\n",
      "|2016-02-26 00:00:00|1180000|1187000|1172000|1172000|176906|\n",
      "|2016-02-25 00:00:00|1172000|1187000|1172000|1179000|128321|\n",
      "|2016-02-24 00:00:00|1178000|1179000|1161000|1172000|140407|\n",
      "|2016-02-23 00:00:00|1179000|1189000|1173000|1181000|147578|\n",
      "|2016-02-22 00:00:00|1190000|1192000|1166000|1175000|174075|\n",
      "|2016-02-19 00:00:00|1187000|1195000|1174000|1190000|175889|\n",
      "|2016-02-18 00:00:00|1203000|1203000|1178000|1187000|211795|\n",
      "|2016-02-17 00:00:00|1179000|1201000|1169000|1185000|245929|\n",
      "|2016-02-16 00:00:00|1158000|1179000|1157000|1168000|179087|\n",
      "|2016-02-15 00:00:00|1154000|1160000|1144000|1154000|182471|\n",
      "|2016-02-12 00:00:00|1130000|1151000|1122000|1130000|254115|\n",
      "|2016-02-11 00:00:00|1118000|1137000|1118000|1130000|304899|\n",
      "|2016-02-05 00:00:00|1156000|1169000|1156000|1164000|183280|\n",
      "|2016-02-04 00:00:00|1150000|1161000|1148000|1156000|236429|\n",
      "|2016-02-03 00:00:00|1150000|1152000|1137000|1146000|174381|\n",
      "|2016-02-02 00:00:00|1161000|1166000|1147000|1156000|165420|\n",
      "|2016-02-01 00:00:00|1152000|1163000|1151000|1163000|258194|\n",
      "|2016-01-29 00:00:00|1140000|1150000|1116000|1150000|426238|\n",
      "|2016-01-28 00:00:00|1164000|1168000|1139000|1145000|314154|\n",
      "|2016-01-27 00:00:00|1126000|1175000|1126000|1175000|273707|\n",
      "+-------------------+-------+-------+-------+-------+------+\n",
      "only showing top 20 rows\n",
      "\n"
     ]
    }
   ],
   "source": [
    "orders.show()"
   ]
  },
  {
   "cell_type": "markdown",
   "metadata": {},
   "source": [
    "### filter(조건식)\n",
    "- where 조건절과 같은 느낌\n",
    "- Schema()에서 확인할 수 있는 해당 칼럼의 데이터타입을 확인하고 조건식을 부여"
   ]
  },
  {
   "cell_type": "code",
   "execution_count": 36,
   "metadata": {
    "collapsed": true
   },
   "outputs": [
    {
     "name": "stdout",
     "output_type": "stream",
     "text": [
      "+-------------------+-------+-------+-------+-------+------+\n",
      "|               Date|   Open|   High|    Low|  Close|Volume|\n",
      "+-------------------+-------+-------+-------+-------+------+\n",
      "|2016-02-26 00:00:00|1180000|1187000|1172000|1172000|176906|\n",
      "|2016-02-25 00:00:00|1172000|1187000|1172000|1179000|128321|\n",
      "|2016-02-24 00:00:00|1178000|1179000|1161000|1172000|140407|\n",
      "|2016-02-23 00:00:00|1179000|1189000|1173000|1181000|147578|\n",
      "|2016-02-22 00:00:00|1190000|1192000|1166000|1175000|174075|\n",
      "|2016-02-19 00:00:00|1187000|1195000|1174000|1190000|175889|\n",
      "|2016-02-18 00:00:00|1203000|1203000|1178000|1187000|211795|\n",
      "|2016-02-17 00:00:00|1179000|1201000|1169000|1185000|245929|\n",
      "|2016-02-16 00:00:00|1158000|1179000|1157000|1168000|179087|\n",
      "|2016-02-15 00:00:00|1154000|1160000|1144000|1154000|182471|\n",
      "|2016-02-12 00:00:00|1130000|1151000|1122000|1130000|254115|\n",
      "|2016-02-11 00:00:00|1118000|1137000|1118000|1130000|304899|\n",
      "|2016-02-05 00:00:00|1156000|1169000|1156000|1164000|183280|\n",
      "|2016-02-04 00:00:00|1150000|1161000|1148000|1156000|236429|\n",
      "|2016-02-03 00:00:00|1150000|1152000|1137000|1146000|174381|\n",
      "|2016-02-02 00:00:00|1161000|1166000|1147000|1156000|165420|\n",
      "|2016-02-01 00:00:00|1152000|1163000|1151000|1163000|258194|\n",
      "+-------------------+-------+-------+-------+-------+------+\n",
      "\n"
     ]
    }
   ],
   "source": [
    "# Date가 2월인 데이터만 필터링\n",
    "orders.filter(orders['Date'] >= '2016-02-01').show()"
   ]
  },
  {
   "cell_type": "code",
   "execution_count": 37,
   "metadata": {
    "collapsed": true
   },
   "outputs": [
    {
     "name": "stdout",
     "output_type": "stream",
     "text": [
      "+-------------------+-------+-------+\n",
      "|               Date|   Open|  Close|\n",
      "+-------------------+-------+-------+\n",
      "|2016-01-05 00:00:00|1202000|1208000|\n",
      "|2016-01-04 00:00:00|1260000|1205000|\n",
      "|2015-12-30 00:00:00|1260000|1260000|\n",
      "|2015-12-29 00:00:00|1265000|1254000|\n",
      "|2015-12-28 00:00:00|1285000|1266000|\n",
      "|2015-12-24 00:00:00|1295000|1285000|\n",
      "|2015-12-23 00:00:00|1292000|1295000|\n",
      "|2015-12-22 00:00:00|1280000|1292000|\n",
      "|2015-12-21 00:00:00|1278000|1280000|\n",
      "|2015-12-18 00:00:00|1265000|1278000|\n",
      "|2015-12-17 00:00:00|1301000|1290000|\n",
      "|2015-12-16 00:00:00|1278000|1299000|\n",
      "|2015-12-15 00:00:00|1261000|1277000|\n",
      "|2015-12-14 00:00:00|1273000|1261000|\n",
      "|2015-12-11 00:00:00|1283000|1284000|\n",
      "|2015-12-10 00:00:00|1263000|1283000|\n",
      "|2015-12-09 00:00:00|1262000|1263000|\n",
      "|2015-12-08 00:00:00|1262000|1262000|\n",
      "|2015-12-07 00:00:00|1269000|1262000|\n",
      "|2015-12-04 00:00:00|1275000|1269000|\n",
      "+-------------------+-------+-------+\n",
      "only showing top 20 rows\n",
      "\n"
     ]
    }
   ],
   "source": [
    "# 종가가 1200000 이상인 데이터만 필터링하기\n",
    "# select로 원하는 칼럼만 가져오는 것도 가능\n",
    "orders.filter(orders['Close'] > 1200000).select(['Date', 'Open', 'Close']).show()"
   ]
  },
  {
   "cell_type": "code",
   "execution_count": 38,
   "metadata": {
    "collapsed": true
   },
   "outputs": [
    {
     "name": "stdout",
     "output_type": "stream",
     "text": [
      "+-------------------+-------+-------+-------+-------+------+\n",
      "|               Date|   Open|   High|    Low|  Close|Volume|\n",
      "+-------------------+-------+-------+-------+-------+------+\n",
      "|2016-02-11 00:00:00|1118000|1137000|1118000|1130000|304899|\n",
      "|2016-01-29 00:00:00|1140000|1150000|1116000|1150000|426238|\n",
      "|2016-01-28 00:00:00|1164000|1168000|1139000|1145000|314154|\n",
      "|2016-01-18 00:00:00|1088000|1133000|1088000|1126000|320007|\n",
      "|2016-01-06 00:00:00|1208000|1208000|1168000|1175000|359895|\n",
      "|2016-01-04 00:00:00|1260000|1260000|1205000|1205000|304050|\n",
      "|2015-12-10 00:00:00|1263000|1293000|1263000|1283000|302978|\n",
      "|2015-11-30 00:00:00|1325000|1325000|1284000|1284000|515530|\n",
      "|2015-11-02 00:00:00|1385000|1393000|1374000|1383000|365104|\n",
      "|2015-10-30 00:00:00|1345000|1390000|1341000|1372000|498776|\n",
      "|2015-10-29 00:00:00|1330000|1392000|1324000|1325000|622336|\n",
      "|2015-10-12 00:00:00|1260000|1263000|1247000|1260000|301807|\n",
      "|2015-10-08 00:00:00|1250000|1279000|1250000|1270000|500566|\n",
      "|2015-10-07 00:00:00|1198000|1252000|1186000|1251000|795678|\n",
      "|2015-10-06 00:00:00|1130000|1155000|1127000|1151000|371835|\n",
      "|2015-09-30 00:00:00|1100000|1134000|1090000|1134000|354069|\n",
      "|2015-09-18 00:00:00|1145000|1192000|1135000|1190000|421097|\n",
      "|2015-09-16 00:00:00|1121000|1157000|1121000|1152000|338783|\n",
      "|2015-09-10 00:00:00|1130000|1139000|1118000|1134000|356879|\n",
      "|2015-09-03 00:00:00|1102000|1123000|1093000|1122000|303343|\n",
      "+-------------------+-------+-------+-------+-------+------+\n",
      "only showing top 20 rows\n",
      "\n"
     ]
    }
   ],
   "source": [
    "# Volume 300000 이하인 데이터만 필터링\n",
    "orders.filter( (orders['Volume'] > 300000 )).show()"
   ]
  },
  {
   "cell_type": "code",
   "execution_count": 40,
   "metadata": {},
   "outputs": [
    {
     "name": "stdout",
     "output_type": "stream",
     "text": [
      "+-------------------+-------+-------+-------+-------+------+\n",
      "|               Date|   Open|   High|    Low|  Close|Volume|\n",
      "+-------------------+-------+-------+-------+-------+------+\n",
      "|2016-02-26 00:00:00|1180000|1187000|1172000|1172000|176906|\n",
      "+-------------------+-------+-------+-------+-------+------+\n",
      "\n"
     ]
    }
   ],
   "source": [
    "orders.filter(orders['Date'] == '2016-02-26').show()"
   ]
  },
  {
   "cell_type": "markdown",
   "metadata": {},
   "source": [
    "## titanic_train.csv[실습]"
   ]
  },
  {
   "cell_type": "code",
   "execution_count": 41,
   "metadata": {},
   "outputs": [
    {
     "data": {
      "text/plain": [
       "pyspark.sql.dataframe.DataFrame"
      ]
     },
     "execution_count": 41,
     "metadata": {},
     "output_type": "execute_result"
    }
   ],
   "source": [
    "titanic = sqlCtx.read.csv('./data/titanic_train.csv', \n",
    "                          header=True, \n",
    "                          inferSchema=True)\n",
    "type(titanic)"
   ]
  },
  {
   "cell_type": "code",
   "execution_count": 42,
   "metadata": {},
   "outputs": [
    {
     "name": "stdout",
     "output_type": "stream",
     "text": [
      "+-----------+--------+------+--------------------+------+----+-----+-----+----------------+-------+-----+--------+\n",
      "|PassengerId|Survived|Pclass|                Name|   Sex| Age|SibSp|Parch|          Ticket|   Fare|Cabin|Embarked|\n",
      "+-----------+--------+------+--------------------+------+----+-----+-----+----------------+-------+-----+--------+\n",
      "|          1|       0|     3|Braund, Mr. Owen ...|  male|22.0|    1|    0|       A/5 21171|   7.25| null|       S|\n",
      "|          2|       1|     1|Cumings, Mrs. Joh...|female|38.0|    1|    0|        PC 17599|71.2833|  C85|       C|\n",
      "|          3|       1|     3|Heikkinen, Miss. ...|female|26.0|    0|    0|STON/O2. 3101282|  7.925| null|       S|\n",
      "|          4|       1|     1|Futrelle, Mrs. Ja...|female|35.0|    1|    0|          113803|   53.1| C123|       S|\n",
      "|          5|       0|     3|Allen, Mr. Willia...|  male|35.0|    0|    0|          373450|   8.05| null|       S|\n",
      "|          6|       0|     3|    Moran, Mr. James|  male|null|    0|    0|          330877| 8.4583| null|       Q|\n",
      "|          7|       0|     1|McCarthy, Mr. Tim...|  male|54.0|    0|    0|           17463|51.8625|  E46|       S|\n",
      "|          8|       0|     3|Palsson, Master. ...|  male| 2.0|    3|    1|          349909| 21.075| null|       S|\n",
      "|          9|       1|     3|Johnson, Mrs. Osc...|female|27.0|    0|    2|          347742|11.1333| null|       S|\n",
      "|         10|       1|     2|Nasser, Mrs. Nich...|female|14.0|    1|    0|          237736|30.0708| null|       C|\n",
      "|         11|       1|     3|Sandstrom, Miss. ...|female| 4.0|    1|    1|         PP 9549|   16.7|   G6|       S|\n",
      "|         12|       1|     1|Bonnell, Miss. El...|female|58.0|    0|    0|          113783|  26.55| C103|       S|\n",
      "|         13|       0|     3|Saundercock, Mr. ...|  male|20.0|    0|    0|       A/5. 2151|   8.05| null|       S|\n",
      "|         14|       0|     3|Andersson, Mr. An...|  male|39.0|    1|    5|          347082| 31.275| null|       S|\n",
      "|         15|       0|     3|Vestrom, Miss. Hu...|female|14.0|    0|    0|          350406| 7.8542| null|       S|\n",
      "|         16|       1|     2|Hewlett, Mrs. (Ma...|female|55.0|    0|    0|          248706|   16.0| null|       S|\n",
      "|         17|       0|     3|Rice, Master. Eugene|  male| 2.0|    4|    1|          382652| 29.125| null|       Q|\n",
      "|         18|       1|     2|Williams, Mr. Cha...|  male|null|    0|    0|          244373|   13.0| null|       S|\n",
      "|         19|       0|     3|Vander Planke, Mr...|female|31.0|    1|    0|          345763|   18.0| null|       S|\n",
      "|         20|       1|     3|Masselmani, Mrs. ...|female|null|    0|    0|            2649|  7.225| null|       C|\n",
      "+-----------+--------+------+--------------------+------+----+-----+-----+----------------+-------+-----+--------+\n",
      "only showing top 20 rows\n",
      "\n"
     ]
    }
   ],
   "source": [
    "titanic.show()"
   ]
  },
  {
   "cell_type": "code",
   "execution_count": 43,
   "metadata": {},
   "outputs": [
    {
     "data": {
      "text/plain": [
       "['PassengerId',\n",
       " 'Survived',\n",
       " 'Pclass',\n",
       " 'Name',\n",
       " 'Sex',\n",
       " 'Age',\n",
       " 'SibSp',\n",
       " 'Parch',\n",
       " 'Ticket',\n",
       " 'Fare',\n",
       " 'Cabin',\n",
       " 'Embarked']"
      ]
     },
     "execution_count": 43,
     "metadata": {},
     "output_type": "execute_result"
    }
   ],
   "source": [
    "titanic.columns"
   ]
  },
  {
   "cell_type": "code",
   "execution_count": 44,
   "metadata": {},
   "outputs": [
    {
     "data": {
      "text/plain": [
       "891"
      ]
     },
     "execution_count": 44,
     "metadata": {},
     "output_type": "execute_result"
    }
   ],
   "source": [
    "titanic.count()"
   ]
  },
  {
   "cell_type": "code",
   "execution_count": 45,
   "metadata": {
    "collapsed": true
   },
   "outputs": [
    {
     "name": "stdout",
     "output_type": "stream",
     "text": [
      "+-----------+--------------------+\n",
      "|PassengerId|                Name|\n",
      "+-----------+--------------------+\n",
      "|          1|Braund, Mr. Owen ...|\n",
      "|          2|Cumings, Mrs. Joh...|\n",
      "|          3|Heikkinen, Miss. ...|\n",
      "|          4|Futrelle, Mrs. Ja...|\n",
      "|          5|Allen, Mr. Willia...|\n",
      "|          6|    Moran, Mr. James|\n",
      "|          7|McCarthy, Mr. Tim...|\n",
      "|          8|Palsson, Master. ...|\n",
      "|          9|Johnson, Mrs. Osc...|\n",
      "|         10|Nasser, Mrs. Nich...|\n",
      "|         11|Sandstrom, Miss. ...|\n",
      "|         12|Bonnell, Miss. El...|\n",
      "|         13|Saundercock, Mr. ...|\n",
      "|         14|Andersson, Mr. An...|\n",
      "|         15|Vestrom, Miss. Hu...|\n",
      "|         16|Hewlett, Mrs. (Ma...|\n",
      "|         17|Rice, Master. Eugene|\n",
      "|         18|Williams, Mr. Cha...|\n",
      "|         19|Vander Planke, Mr...|\n",
      "|         20|Masselmani, Mrs. ...|\n",
      "+-----------+--------------------+\n",
      "only showing top 20 rows\n",
      "\n"
     ]
    }
   ],
   "source": [
    "# select 변수 선택 ; PassengerId, Name\n",
    "titanic.select(['PassengerId', 'Name']).show()"
   ]
  },
  {
   "cell_type": "code",
   "execution_count": 48,
   "metadata": {
    "collapsed": true
   },
   "outputs": [
    {
     "name": "stdout",
     "output_type": "stream",
     "text": [
      "+-----------+--------------------+------+--------+\n",
      "|PassengerId|                Name|   Sex|Survived|\n",
      "+-----------+--------------------+------+--------+\n",
      "|          2|Cumings, Mrs. Joh...|female|       1|\n",
      "|          3|Heikkinen, Miss. ...|female|       1|\n",
      "|          4|Futrelle, Mrs. Ja...|female|       1|\n",
      "|          9|Johnson, Mrs. Osc...|female|       1|\n",
      "|         10|Nasser, Mrs. Nich...|female|       1|\n",
      "|         11|Sandstrom, Miss. ...|female|       1|\n",
      "|         12|Bonnell, Miss. El...|female|       1|\n",
      "|         16|Hewlett, Mrs. (Ma...|female|       1|\n",
      "|         20|Masselmani, Mrs. ...|female|       1|\n",
      "|         23|\"McGowan, Miss. A...|female|       1|\n",
      "|         26|Asplund, Mrs. Car...|female|       1|\n",
      "|         29|\"O'Dwyer, Miss. E...|female|       1|\n",
      "|         32|Spencer, Mrs. Wil...|female|       1|\n",
      "|         33|Glynn, Miss. Mary...|female|       1|\n",
      "|         40|Nicola-Yarred, Mi...|female|       1|\n",
      "|         44|Laroche, Miss. Si...|female|       1|\n",
      "|         45|Devaney, Miss. Ma...|female|       1|\n",
      "|         48|O'Driscoll, Miss....|female|       1|\n",
      "|         53|Harper, Mrs. Henr...|female|       1|\n",
      "|         54|Faunthorpe, Mrs. ...|female|       1|\n",
      "+-----------+--------------------+------+--------+\n",
      "only showing top 20 rows\n",
      "\n"
     ]
    }
   ],
   "source": [
    "# 생존자 여성의 PassengerId, Name, Sex, Survived 출력\n",
    "titanic.filter((titanic.Sex == 'female') & (titanic.Survived == 1)).select(['PassengerId', 'Name' ,'Sex', 'Survived']).show()"
   ]
  },
  {
   "cell_type": "code",
   "execution_count": 51,
   "metadata": {
    "collapsed": true
   },
   "outputs": [
    {
     "name": "stdout",
     "output_type": "stream",
     "text": [
      "+------+------------------+\n",
      "|Pclass|         avg(Fare)|\n",
      "+------+------------------+\n",
      "|     1| 84.15468749999992|\n",
      "|     2| 20.66218315217391|\n",
      "|     3|13.675550101832997|\n",
      "+------+------------------+\n",
      "\n"
     ]
    }
   ],
   "source": [
    "# 선실등급(Pclass) 별 요금 평균 확인하기\n",
    "# class_grp = titanic.groupBy('Pclass')\n",
    "# class_grp.avg('Fare').show()\n",
    "# type(class_grp)\n",
    "\n",
    "# 정렬 sort()\n",
    "titanic.groupBy('Pclass').avg('Fare').sort('avg(Fare)'  , ascending=False).show()"
   ]
  },
  {
   "cell_type": "markdown",
   "metadata": {},
   "source": [
    "## Spark SQL"
   ]
  },
  {
   "cell_type": "code",
   "execution_count": 53,
   "metadata": {},
   "outputs": [],
   "source": [
    "import pandas as pd"
   ]
  },
  {
   "cell_type": "code",
   "execution_count": 54,
   "metadata": {},
   "outputs": [],
   "source": [
    "data1 = {'PassengerId':{0:1, 1:2, 2:3, 3:4, 4:5},\n",
    "         'Name' : {0:'Owen', 1:'Florence', 2:'Laina', 3:'Lily', 4:\"William\"},\n",
    "         'sex' : {0: 'male', 1: 'female', 2:'female', 3:'female', 4:'male'},\n",
    "         'Survived': {0:0, 1:1, 2:1, 3:1, 4:0}\n",
    "        }\n",
    "\n",
    "data2 = {'PassengerId':{0:1, 1:2, 2:3, 3:4, 4:5},\n",
    "         'Age' : {0: 22, 1: 38, 2: 33, 3: 35, 4: 35},\n",
    "         'Fare' : {0: 7.3, 1: 71.3, 2:7.9, 3:53.1, 4:8.0},\n",
    "         'Pclass': {0:3, 1:1, 2:3, 3:1, 4:3}\n",
    "        }"
   ]
  },
  {
   "cell_type": "code",
   "execution_count": 56,
   "metadata": {},
   "outputs": [
    {
     "data": {
      "text/plain": [
       "dict_keys(['PassengerId', 'Name', 'sex', 'Survived'])"
      ]
     },
     "metadata": {},
     "output_type": "display_data"
    },
    {
     "data": {
      "text/plain": [
       "dict_keys(['PassengerId', 'Age', 'Fare', 'Pclass'])"
      ]
     },
     "metadata": {},
     "output_type": "display_data"
    }
   ],
   "source": [
    "display(data1.keys())\n",
    "display(data2.keys())"
   ]
  },
  {
   "cell_type": "markdown",
   "metadata": {},
   "source": [
    "### pandas df -> spark df"
   ]
  },
  {
   "cell_type": "code",
   "execution_count": 57,
   "metadata": {},
   "outputs": [
    {
     "data": {
      "text/html": [
       "<div>\n",
       "<style scoped>\n",
       "    .dataframe tbody tr th:only-of-type {\n",
       "        vertical-align: middle;\n",
       "    }\n",
       "\n",
       "    .dataframe tbody tr th {\n",
       "        vertical-align: top;\n",
       "    }\n",
       "\n",
       "    .dataframe thead th {\n",
       "        text-align: right;\n",
       "    }\n",
       "</style>\n",
       "<table border=\"1\" class=\"dataframe\">\n",
       "  <thead>\n",
       "    <tr style=\"text-align: right;\">\n",
       "      <th></th>\n",
       "      <th>PassengerId</th>\n",
       "      <th>Name</th>\n",
       "      <th>sex</th>\n",
       "      <th>Survived</th>\n",
       "    </tr>\n",
       "  </thead>\n",
       "  <tbody>\n",
       "    <tr>\n",
       "      <th>0</th>\n",
       "      <td>1</td>\n",
       "      <td>Owen</td>\n",
       "      <td>male</td>\n",
       "      <td>0</td>\n",
       "    </tr>\n",
       "    <tr>\n",
       "      <th>1</th>\n",
       "      <td>2</td>\n",
       "      <td>Florence</td>\n",
       "      <td>female</td>\n",
       "      <td>1</td>\n",
       "    </tr>\n",
       "    <tr>\n",
       "      <th>2</th>\n",
       "      <td>3</td>\n",
       "      <td>Laina</td>\n",
       "      <td>female</td>\n",
       "      <td>1</td>\n",
       "    </tr>\n",
       "    <tr>\n",
       "      <th>3</th>\n",
       "      <td>4</td>\n",
       "      <td>Lily</td>\n",
       "      <td>female</td>\n",
       "      <td>1</td>\n",
       "    </tr>\n",
       "    <tr>\n",
       "      <th>4</th>\n",
       "      <td>5</td>\n",
       "      <td>William</td>\n",
       "      <td>male</td>\n",
       "      <td>0</td>\n",
       "    </tr>\n",
       "  </tbody>\n",
       "</table>\n",
       "</div>"
      ],
      "text/plain": [
       "   PassengerId      Name     sex  Survived\n",
       "0            1      Owen    male         0\n",
       "1            2  Florence  female         1\n",
       "2            3     Laina  female         1\n",
       "3            4      Lily  female         1\n",
       "4            5   William    male         0"
      ]
     },
     "metadata": {},
     "output_type": "display_data"
    },
    {
     "data": {
      "text/html": [
       "<div>\n",
       "<style scoped>\n",
       "    .dataframe tbody tr th:only-of-type {\n",
       "        vertical-align: middle;\n",
       "    }\n",
       "\n",
       "    .dataframe tbody tr th {\n",
       "        vertical-align: top;\n",
       "    }\n",
       "\n",
       "    .dataframe thead th {\n",
       "        text-align: right;\n",
       "    }\n",
       "</style>\n",
       "<table border=\"1\" class=\"dataframe\">\n",
       "  <thead>\n",
       "    <tr style=\"text-align: right;\">\n",
       "      <th></th>\n",
       "      <th>PassengerId</th>\n",
       "      <th>Age</th>\n",
       "      <th>Fare</th>\n",
       "      <th>Pclass</th>\n",
       "    </tr>\n",
       "  </thead>\n",
       "  <tbody>\n",
       "    <tr>\n",
       "      <th>0</th>\n",
       "      <td>1</td>\n",
       "      <td>22</td>\n",
       "      <td>7.3</td>\n",
       "      <td>3</td>\n",
       "    </tr>\n",
       "    <tr>\n",
       "      <th>1</th>\n",
       "      <td>2</td>\n",
       "      <td>38</td>\n",
       "      <td>71.3</td>\n",
       "      <td>1</td>\n",
       "    </tr>\n",
       "    <tr>\n",
       "      <th>2</th>\n",
       "      <td>3</td>\n",
       "      <td>33</td>\n",
       "      <td>7.9</td>\n",
       "      <td>3</td>\n",
       "    </tr>\n",
       "    <tr>\n",
       "      <th>3</th>\n",
       "      <td>4</td>\n",
       "      <td>35</td>\n",
       "      <td>53.1</td>\n",
       "      <td>1</td>\n",
       "    </tr>\n",
       "    <tr>\n",
       "      <th>4</th>\n",
       "      <td>5</td>\n",
       "      <td>35</td>\n",
       "      <td>8.0</td>\n",
       "      <td>3</td>\n",
       "    </tr>\n",
       "  </tbody>\n",
       "</table>\n",
       "</div>"
      ],
      "text/plain": [
       "   PassengerId  Age  Fare  Pclass\n",
       "0            1   22   7.3       3\n",
       "1            2   38  71.3       1\n",
       "2            3   33   7.9       3\n",
       "3            4   35  53.1       1\n",
       "4            5   35   8.0       3"
      ]
     },
     "metadata": {},
     "output_type": "display_data"
    },
    {
     "data": {
      "text/plain": [
       "pandas.core.frame.DataFrame"
      ]
     },
     "execution_count": 57,
     "metadata": {},
     "output_type": "execute_result"
    }
   ],
   "source": [
    "sample_df01 = pd.DataFrame(data1, columns=data1.keys())\n",
    "sample_df02 = pd.DataFrame(data2, columns=data2.keys())\n",
    "display(sample_df01)\n",
    "display(sample_df02)\n",
    "type(sample_df02)"
   ]
  },
  {
   "cell_type": "code",
   "execution_count": 58,
   "metadata": {},
   "outputs": [],
   "source": [
    "# pandas -> spark type의 DataFrame으로 만드는 방법\n",
    "\n",
    "spark_df01 = sqlCtx.createDataFrame(sample_df01)\n",
    "# type(spark_df01)\n",
    "\n",
    "spark_df02 = sqlCtx.createDataFrame(sample_df02)\n",
    "# type(spark_df02)"
   ]
  },
  {
   "cell_type": "code",
   "execution_count": 59,
   "metadata": {},
   "outputs": [
    {
     "name": "stdout",
     "output_type": "stream",
     "text": [
      "root\n",
      " |-- PassengerId: long (nullable = true)\n",
      " |-- Name: string (nullable = true)\n",
      " |-- sex: string (nullable = true)\n",
      " |-- Survived: long (nullable = true)\n",
      "\n"
     ]
    }
   ],
   "source": [
    "spark_df01.printSchema()"
   ]
  },
  {
   "cell_type": "code",
   "execution_count": 60,
   "metadata": {},
   "outputs": [
    {
     "name": "stdout",
     "output_type": "stream",
     "text": [
      "root\n",
      " |-- PassengerId: long (nullable = true)\n",
      " |-- Age: long (nullable = true)\n",
      " |-- Fare: double (nullable = true)\n",
      " |-- Pclass: long (nullable = true)\n",
      "\n"
     ]
    }
   ],
   "source": [
    "spark_df02.printSchema()"
   ]
  },
  {
   "cell_type": "code",
   "execution_count": 61,
   "metadata": {},
   "outputs": [
    {
     "name": "stdout",
     "output_type": "stream",
     "text": [
      "+-----------+---+----+------+\n",
      "|PassengerId|Age|Fare|Pclass|\n",
      "+-----------+---+----+------+\n",
      "|          1| 22| 7.3|     3|\n",
      "|          2| 38|71.3|     1|\n",
      "|          3| 33| 7.9|     3|\n",
      "|          4| 35|53.1|     1|\n",
      "|          5| 35| 8.0|     3|\n",
      "+-----------+---+----+------+\n",
      "\n"
     ]
    }
   ],
   "source": [
    "spark_df02.show()"
   ]
  },
  {
   "cell_type": "code",
   "execution_count": 62,
   "metadata": {},
   "outputs": [],
   "source": [
    "# mirroring \n",
    "spark_df01.createOrReplaceTempView('titanic01')\n",
    "spark_df02.createOrReplaceTempView('titanic02')"
   ]
  },
  {
   "cell_type": "markdown",
   "metadata": {},
   "source": [
    "### Spark SQL SELECT"
   ]
  },
  {
   "cell_type": "code",
   "execution_count": 63,
   "metadata": {},
   "outputs": [
    {
     "name": "stdout",
     "output_type": "stream",
     "text": [
      "+-----------+-------+----+--------+\n",
      "|PassengerId|   Name| sex|Survived|\n",
      "+-----------+-------+----+--------+\n",
      "|          1|   Owen|male|       0|\n",
      "|          5|William|male|       0|\n",
      "+-----------+-------+----+--------+\n",
      "\n"
     ]
    }
   ],
   "source": [
    "sqlCtx.sql(\"select * from titanic01 where sex='male'\").show()"
   ]
  },
  {
   "cell_type": "code",
   "execution_count": 65,
   "metadata": {},
   "outputs": [
    {
     "name": "stdout",
     "output_type": "stream",
     "text": [
      "+------+---+\n",
      "|   SEX|CNT|\n",
      "+------+---+\n",
      "|female|  3|\n",
      "+------+---+\n",
      "\n"
     ]
    }
   ],
   "source": [
    "# 성별에 따른 생존자 수\n",
    "sqlCtx.sql(\"\"\"SELECT SEX, SUM(SURVIVED) AS CNT\n",
    "              FROM   TITANIC01\n",
    "              WHERE  SURVIVED = 1\n",
    "              GROUP  BY SEX\"\"\").show()"
   ]
  },
  {
   "cell_type": "code",
   "execution_count": 66,
   "metadata": {},
   "outputs": [
    {
     "name": "stdout",
     "output_type": "stream",
     "text": [
      "+------+-----------------+\n",
      "|PCLASS|        avg(FARE)|\n",
      "+------+-----------------+\n",
      "|     1|             62.2|\n",
      "|     3|7.733333333333334|\n",
      "+------+-----------------+\n",
      "\n"
     ]
    }
   ],
   "source": [
    "# 선실 등급에 따른 평균 요금\n",
    "sqlCtx.sql(\"\"\"SELECT PCLASS ,  AVG(FARE)\n",
    "              FROM   TITANIC01 T1\n",
    "              JOIN   TITANIC02 T2 ON(T1.PASSENGERID = T2.PASSENGERID)\n",
    "              GROUP  BY (PCLASS )\"\"\").show()"
   ]
  },
  {
   "cell_type": "code",
   "execution_count": null,
   "metadata": {},
   "outputs": [],
   "source": []
  }
 ],
 "metadata": {
  "kernelspec": {
   "display_name": "Python 3",
   "language": "python",
   "name": "python3"
  },
  "language_info": {
   "codemirror_mode": {
    "name": "ipython",
    "version": 3
   },
   "file_extension": ".py",
   "mimetype": "text/x-python",
   "name": "python",
   "nbconvert_exporter": "python",
   "pygments_lexer": "ipython3",
   "version": "3.6.5"
  }
 },
 "nbformat": 4,
 "nbformat_minor": 2
}
