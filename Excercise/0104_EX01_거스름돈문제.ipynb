{
 "cells": [
  {
   "cell_type": "markdown",
   "metadata": {},
   "source": [
    "# 그리디 알고리즘 개요 문제\n",
    "\n",
    "- 당신은 음식점 점원입니다. 카운터에는 거스름돈으로 사용할 500원, 100원, 50원, 10원짜리 동전이 무한히 존재한다고 가정합니다. 손님에게 거슬러 주어야 할 돈이 N원일 때 거슬러 주어야 할 동전의 최소 개수를 구하세요. 단, N은 항상 10의 배수입니다.\n",
    "\n",
    "- 예시로 N = 1260원 일 때 동전 최소 개수를 구하세요."
   ]
  },
  {
   "cell_type": "code",
   "execution_count": 1,
   "metadata": {},
   "outputs": [
    {
     "name": "stdout",
     "output_type": "stream",
     "text": [
      "6\n"
     ]
    }
   ],
   "source": [
    "n = 1260\n",
    "count = 0\n",
    "\n",
    "# 큰 단위의 화폐부터 차례대로 확인하기\n",
    "array = [500, 100, 50, 10]\n",
    "\n",
    "for coin in array:\n",
    "    count += n // coin \n",
    "    \n",
    "    # 해당 화폐로 거슬러 줄 수 있는 동전의 개수 세기\n",
    "    # n을 coin으로 나눈 몫을 count에 추가\n",
    "    \n",
    "    n %= coin\n",
    "    \n",
    "    # n을 coin으로 나눈 나머지를 n에 할당\n",
    "    # 위에서 coin으로 사용하고 남은 금액을 새로운 n으로 적용\n",
    "    \n",
    "print(count)"
   ]
  },
  {
   "cell_type": "markdown",
   "metadata": {},
   "source": [
    "## 정당성 분석\n",
    "참고 및 문제 출처 : https://youtu.be/2zjoKjt97vQ"
   ]
  }
 ],
 "metadata": {
  "kernelspec": {
   "display_name": "Python 3",
   "language": "python",
   "name": "python3"
  },
  "language_info": {
   "codemirror_mode": {
    "name": "ipython",
    "version": 3
   },
   "file_extension": ".py",
   "mimetype": "text/x-python",
   "name": "python",
   "nbconvert_exporter": "python",
   "pygments_lexer": "ipython3",
   "version": "3.6.4"
  }
 },
 "nbformat": 4,
 "nbformat_minor": 4
}
